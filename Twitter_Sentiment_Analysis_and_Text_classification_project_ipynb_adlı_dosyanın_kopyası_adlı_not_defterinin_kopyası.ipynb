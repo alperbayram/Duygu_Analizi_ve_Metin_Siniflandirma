{
  "nbformat": 4,
  "nbformat_minor": 0,
  "metadata": {
    "colab": {
      "name": "Twitter_Sentiment_Analysis_and_Text_classification_project.ipynb adlı dosyanın kopyası adlı not defterinin kopyası",
      "provenance": [],
      "authorship_tag": "ABX9TyMiKK+RI9hpux+lqzqQ4l3X",
      "include_colab_link": true
    },
    "kernelspec": {
      "name": "python3",
      "display_name": "Python 3"
    },
    "language_info": {
      "name": "python"
    }
  },
  "cells": [
    {
      "cell_type": "markdown",
      "metadata": {
        "id": "view-in-github",
        "colab_type": "text"
      },
      "source": [
        "<a href=\"https://colab.research.google.com/github/alperbayram/TurkishNLP/blob/main/Twitter_Sentiment_Analysis_and_Text_classification_project_ipynb_adl%C4%B1_dosyan%C4%B1n_kopyas%C4%B1_adl%C4%B1_not_defterinin_kopyas%C4%B1.ipynb\" target=\"_parent\"><img src=\"https://colab.research.google.com/assets/colab-badge.svg\" alt=\"Open In Colab\"/></a>"
      ]
    },
    {
      "cell_type": "code",
      "metadata": {
        "colab": {
          "base_uri": "https://localhost:8080/"
        },
        "id": "er6Pv2JWsknV",
        "outputId": "65a6237d-c5a4-4ff2-9da8-911d3d3f3a33"
      },
      "source": [
        "!pip install transformers"
      ],
      "execution_count": 2,
      "outputs": [
        {
          "output_type": "stream",
          "text": [
            "Requirement already satisfied: transformers in /usr/local/lib/python3.7/dist-packages (4.6.1)\n",
            "Requirement already satisfied: tqdm>=4.27 in /usr/local/lib/python3.7/dist-packages (from transformers) (4.41.1)\n",
            "Requirement already satisfied: importlib-metadata; python_version < \"3.8\" in /usr/local/lib/python3.7/dist-packages (from transformers) (4.0.1)\n",
            "Requirement already satisfied: packaging in /usr/local/lib/python3.7/dist-packages (from transformers) (20.9)\n",
            "Requirement already satisfied: sacremoses in /usr/local/lib/python3.7/dist-packages (from transformers) (0.0.45)\n",
            "Requirement already satisfied: requests in /usr/local/lib/python3.7/dist-packages (from transformers) (2.23.0)\n",
            "Requirement already satisfied: tokenizers<0.11,>=0.10.1 in /usr/local/lib/python3.7/dist-packages (from transformers) (0.10.3)\n",
            "Requirement already satisfied: filelock in /usr/local/lib/python3.7/dist-packages (from transformers) (3.0.12)\n",
            "Requirement already satisfied: huggingface-hub==0.0.8 in /usr/local/lib/python3.7/dist-packages (from transformers) (0.0.8)\n",
            "Requirement already satisfied: numpy>=1.17 in /usr/local/lib/python3.7/dist-packages (from transformers) (1.19.5)\n",
            "Requirement already satisfied: regex!=2019.12.17 in /usr/local/lib/python3.7/dist-packages (from transformers) (2019.12.20)\n",
            "Requirement already satisfied: zipp>=0.5 in /usr/local/lib/python3.7/dist-packages (from importlib-metadata; python_version < \"3.8\"->transformers) (3.4.1)\n",
            "Requirement already satisfied: typing-extensions>=3.6.4; python_version < \"3.8\" in /usr/local/lib/python3.7/dist-packages (from importlib-metadata; python_version < \"3.8\"->transformers) (3.7.4.3)\n",
            "Requirement already satisfied: pyparsing>=2.0.2 in /usr/local/lib/python3.7/dist-packages (from packaging->transformers) (2.4.7)\n",
            "Requirement already satisfied: joblib in /usr/local/lib/python3.7/dist-packages (from sacremoses->transformers) (1.0.1)\n",
            "Requirement already satisfied: six in /usr/local/lib/python3.7/dist-packages (from sacremoses->transformers) (1.15.0)\n",
            "Requirement already satisfied: click in /usr/local/lib/python3.7/dist-packages (from sacremoses->transformers) (7.1.2)\n",
            "Requirement already satisfied: chardet<4,>=3.0.2 in /usr/local/lib/python3.7/dist-packages (from requests->transformers) (3.0.4)\n",
            "Requirement already satisfied: urllib3!=1.25.0,!=1.25.1,<1.26,>=1.21.1 in /usr/local/lib/python3.7/dist-packages (from requests->transformers) (1.24.3)\n",
            "Requirement already satisfied: idna<3,>=2.5 in /usr/local/lib/python3.7/dist-packages (from requests->transformers) (2.10)\n",
            "Requirement already satisfied: certifi>=2017.4.17 in /usr/local/lib/python3.7/dist-packages (from requests->transformers) (2020.12.5)\n"
          ],
          "name": "stdout"
        }
      ]
    },
    {
      "cell_type": "code",
      "metadata": {
        "colab": {
          "base_uri": "https://localhost:8080/"
        },
        "id": "rs57vvI8wFYP",
        "outputId": "e26c8175-dfbf-4d2d-9708-236bf05e2cab"
      },
      "source": [
        "!pip install nest-asyncio"
      ],
      "execution_count": 98,
      "outputs": [
        {
          "output_type": "stream",
          "text": [
            "Requirement already satisfied: nest-asyncio in /usr/local/lib/python3.7/dist-packages (1.5.1)\n"
          ],
          "name": "stdout"
        }
      ]
    },
    {
      "cell_type": "code",
      "metadata": {
        "colab": {
          "base_uri": "https://localhost:8080/"
        },
        "id": "Gy2E3tOftAEx",
        "outputId": "491055ca-2e07-4d3a-bee5-79213466dbe1"
      },
      "source": [
        "!git clone --depth=1 https://github.com/twintproject/twint.git\n",
        "%cd twint\n",
        "!pip3 install . -r requirements.txt"
      ],
      "execution_count": 1,
      "outputs": [
        {
          "output_type": "stream",
          "text": [
            "fatal: destination path 'twint' already exists and is not an empty directory.\n",
            "/content/twint\n",
            "Processing /content/twint\n",
            "Requirement already satisfied: aiohttp in /usr/local/lib/python3.7/dist-packages (from -r requirements.txt (line 1)) (3.7.4.post0)\n",
            "Requirement already satisfied: aiodns in /usr/local/lib/python3.7/dist-packages (from -r requirements.txt (line 2)) (3.0.0)\n",
            "Requirement already satisfied: beautifulsoup4 in /usr/local/lib/python3.7/dist-packages (from -r requirements.txt (line 3)) (4.6.3)\n",
            "Requirement already satisfied: cchardet in /usr/local/lib/python3.7/dist-packages (from -r requirements.txt (line 4)) (2.1.7)\n",
            "Requirement already satisfied: dataclasses in /usr/local/lib/python3.7/dist-packages (from -r requirements.txt (line 5)) (0.6)\n",
            "Requirement already satisfied: elasticsearch in /usr/local/lib/python3.7/dist-packages (from -r requirements.txt (line 6)) (7.13.0)\n",
            "Requirement already satisfied: pysocks in /usr/local/lib/python3.7/dist-packages (from -r requirements.txt (line 7)) (1.7.1)\n",
            "Requirement already satisfied: pandas>=0.23.0 in /usr/local/lib/python3.7/dist-packages (from -r requirements.txt (line 8)) (1.1.5)\n",
            "Requirement already satisfied: aiohttp_socks<=0.4.1 in /usr/local/lib/python3.7/dist-packages (from -r requirements.txt (line 9)) (0.4.1)\n",
            "Requirement already satisfied: schedule in /usr/local/lib/python3.7/dist-packages (from -r requirements.txt (line 10)) (1.1.0)\n",
            "Requirement already satisfied: geopy in /usr/local/lib/python3.7/dist-packages (from -r requirements.txt (line 11)) (1.17.0)\n",
            "Requirement already satisfied: fake-useragent in /usr/local/lib/python3.7/dist-packages (from -r requirements.txt (line 12)) (0.1.11)\n",
            "Requirement already satisfied: googletransx in /usr/local/lib/python3.7/dist-packages (from -r requirements.txt (line 13)) (2.4.2)\n",
            "Requirement already satisfied: typing-extensions>=3.6.5 in /usr/local/lib/python3.7/dist-packages (from aiohttp->-r requirements.txt (line 1)) (3.7.4.3)\n",
            "Requirement already satisfied: async-timeout<4.0,>=3.0 in /usr/local/lib/python3.7/dist-packages (from aiohttp->-r requirements.txt (line 1)) (3.0.1)\n",
            "Requirement already satisfied: multidict<7.0,>=4.5 in /usr/local/lib/python3.7/dist-packages (from aiohttp->-r requirements.txt (line 1)) (5.1.0)\n",
            "Requirement already satisfied: yarl<2.0,>=1.0 in /usr/local/lib/python3.7/dist-packages (from aiohttp->-r requirements.txt (line 1)) (1.6.3)\n",
            "Requirement already satisfied: chardet<5.0,>=2.0 in /usr/local/lib/python3.7/dist-packages (from aiohttp->-r requirements.txt (line 1)) (3.0.4)\n",
            "Requirement already satisfied: attrs>=17.3.0 in /usr/local/lib/python3.7/dist-packages (from aiohttp->-r requirements.txt (line 1)) (21.2.0)\n",
            "Requirement already satisfied: pycares>=4.0.0 in /usr/local/lib/python3.7/dist-packages (from aiodns->-r requirements.txt (line 2)) (4.0.0)\n",
            "Requirement already satisfied: urllib3<2,>=1.21.1 in /usr/local/lib/python3.7/dist-packages (from elasticsearch->-r requirements.txt (line 6)) (1.24.3)\n",
            "Requirement already satisfied: certifi in /usr/local/lib/python3.7/dist-packages (from elasticsearch->-r requirements.txt (line 6)) (2020.12.5)\n",
            "Requirement already satisfied: numpy>=1.15.4 in /usr/local/lib/python3.7/dist-packages (from pandas>=0.23.0->-r requirements.txt (line 8)) (1.19.5)\n",
            "Requirement already satisfied: pytz>=2017.2 in /usr/local/lib/python3.7/dist-packages (from pandas>=0.23.0->-r requirements.txt (line 8)) (2018.9)\n",
            "Requirement already satisfied: python-dateutil>=2.7.3 in /usr/local/lib/python3.7/dist-packages (from pandas>=0.23.0->-r requirements.txt (line 8)) (2.8.1)\n",
            "Requirement already satisfied: geographiclib<2,>=1.49 in /usr/local/lib/python3.7/dist-packages (from geopy->-r requirements.txt (line 11)) (1.50)\n",
            "Requirement already satisfied: requests in /usr/local/lib/python3.7/dist-packages (from googletransx->-r requirements.txt (line 13)) (2.23.0)\n",
            "Requirement already satisfied: idna>=2.0 in /usr/local/lib/python3.7/dist-packages (from yarl<2.0,>=1.0->aiohttp->-r requirements.txt (line 1)) (2.10)\n",
            "Requirement already satisfied: cffi>=1.5.0 in /usr/local/lib/python3.7/dist-packages (from pycares>=4.0.0->aiodns->-r requirements.txt (line 2)) (1.14.5)\n",
            "Requirement already satisfied: six>=1.5 in /usr/local/lib/python3.7/dist-packages (from python-dateutil>=2.7.3->pandas>=0.23.0->-r requirements.txt (line 8)) (1.15.0)\n",
            "Requirement already satisfied: pycparser in /usr/local/lib/python3.7/dist-packages (from cffi>=1.5.0->pycares>=4.0.0->aiodns->-r requirements.txt (line 2)) (2.20)\n",
            "Building wheels for collected packages: twint\n",
            "  Building wheel for twint (setup.py) ... \u001b[?25l\u001b[?25hdone\n",
            "  Created wheel for twint: filename=twint-2.1.21-cp37-none-any.whl size=38863 sha256=93f7345dafbf9a3131889af60bd5d2a48b2efcd74be466faed301d36bb5e48c4\n",
            "  Stored in directory: /tmp/pip-ephem-wheel-cache-i5p8n60w/wheels/c9/bb/bd/2b559954ecc4f4905266df71e9f2e08268750df0fa1ec1a4d2\n",
            "Successfully built twint\n",
            "Installing collected packages: twint\n",
            "  Found existing installation: twint 2.1.21\n",
            "    Uninstalling twint-2.1.21:\n",
            "      Successfully uninstalled twint-2.1.21\n",
            "Successfully installed twint-2.1.21\n"
          ],
          "name": "stdout"
        }
      ]
    },
    {
      "cell_type": "code",
      "metadata": {
        "id": "77v6MrmBseNj"
      },
      "source": [
        "import os\n",
        "import pandas as pd\n",
        "from warnings import filterwarnings\n",
        "filterwarnings('ignore')\n",
        "import numpy as np\n",
        "import matplotlib.pyplot as plt\n",
        "import csv\n",
        "from openpyxl import Workbook\n",
        "from datetime import datetime\n",
        "import seaborn as sns\n",
        "from scipy import stats\n",
        "from PIL import Image\n",
        "from warnings import filterwarnings\n",
        "filterwarnings('ignore')\n",
        "from wordcloud import WordCloud, STOPWORDS, ImageColorGenerator\n"
      ],
      "execution_count": 5,
      "outputs": []
    },
    {
      "cell_type": "code",
      "metadata": {
        "id": "aNAjmYhest6Q"
      },
      "source": [
        "from pandas import Series, DataFrame\n",
        "from datetime import datetime"
      ],
      "execution_count": 7,
      "outputs": []
    },
    {
      "cell_type": "code",
      "metadata": {
        "colab": {
          "base_uri": "https://localhost:8080/"
        },
        "id": "E_FMtSsysv_P",
        "outputId": "0fe908d2-86a7-465a-9df9-160423d210ea"
      },
      "source": [
        "now = datetime.now()\n",
        "date_time = now.strftime(\"%m/%d/%Y, %H:%M:%S\")\n",
        "print(\"date and time:\",date_time)"
      ],
      "execution_count": 8,
      "outputs": [
        {
          "output_type": "stream",
          "text": [
            "date and time: 06/01/2021, 22:37:57\n"
          ],
          "name": "stdout"
        }
      ]
    },
    {
      "cell_type": "code",
      "metadata": {
        "id": "hWqAowwktUxp"
      },
      "source": [
        "import nest_asyncio\n",
        "nest_asyncio.apply()# used once to enable concurrent actions within a Jupyter notebook."
      ],
      "execution_count": 9,
      "outputs": []
    },
    {
      "cell_type": "markdown",
      "metadata": {
        "id": "ysOcoTuD1Z8u"
      },
      "source": [
        "# [**Twint**](https://github.com/twintproject/twint)\n",
        "Python'da yazılmış, Twitter'ın API'sini kullanmayan gelişmiş bir Twitter kazıma ve OSINT aracı, çoğu API sınırlamasından kaçarken bir kullanıcının takipçilerini, takiplerini, Tweetlerini ve daha fazlasını kazımanıza olanak tanır."
      ]
    },
    {
      "cell_type": "code",
      "metadata": {
        "colab": {
          "base_uri": "https://localhost:8080/"
        },
        "id": "dC3v_TEwv0HR",
        "outputId": "b2507488-7ec2-4ca9-c514-54df227749c3"
      },
      "source": [
        "import twint\n",
        "   \n",
        "print (\"tweet alınıyor...\")\n",
        "c = twint.Config()\n",
        "# kullanıcı adı giriniz\n",
        "#c.Username = input('Username: ') \n",
        "c.Username = 'alperbayrmm'\n",
        "c.Custom[\"tweet\"] = [\"date\", \"username\",\"hour\"]\n",
        "c.Pandas = True\n",
        "twint.run.Search(c)\n",
        "Tweets_df = twint.storage.panda.Tweets_df\n",
        "print('başarılı!')"
      ],
      "execution_count": 10,
      "outputs": [
        {
          "output_type": "stream",
          "text": [
            "tweet alınıyor...\n",
            "1399520696720674817 2021-06-01 00:18:30 +0000 <alperbayrmm> fazla hırpalanmadan kapatalım bu defteri\n",
            "1399519579500654595 2021-06-01 00:14:04 +0000 <alperbayrmm> Farazi &amp; Kayra - Mertel Kasetçilik gece gece bi klibi izleyip duygulandık\n",
            "1399462097671577601 2021-05-31 20:25:39 +0000 <alperbayrmm> O dur o anladın sen onu #SendenNefretEdiyoruz\n",
            "1399104588368785409 2021-05-30 20:45:02 +0000 <alperbayrmm> Hayırlı uğurlu olsun  https://t.co/gX40hciCHk\n",
            "1399100390138953730 2021-05-30 20:28:21 +0000 <alperbayrmm> Basket faul ya mükemmelsiniz\n",
            "1399091023293431811 2021-05-30 19:51:08 +0000 <alperbayrmm> Larkin yeterki istesin evden atar basketi\n",
            "1399085237469077506 2021-05-30 19:28:09 +0000 <alperbayrmm> 1.0 da faul aldı Anadolu Efes mükemmel\n",
            "1398585579516928000 2021-05-29 10:22:41 +0000 <alperbayrmm> ben hayatın sillesini yemiş ve üzerine depiklerle yere düştükten sonra hayat tarafından yerde tekmelenmiş bir insanım\n",
            "1398584458694074377 2021-05-29 10:18:14 +0000 <alperbayrmm> hayatı şikayet ediyorum\n",
            "1398249299381731334 2021-05-28 12:06:25 +0000 <alperbayrmm> Cv\n",
            "1397672943837237254 2021-05-26 21:56:11 +0000 <alperbayrmm> penaltılar bitmeyecek sandım #UELfinal\n",
            "1396958781729386497 2021-05-24 22:38:22 +0000 <alperbayrmm> bu gecenin sorumlusu ben miyim\n",
            "1396921312233275395 2021-05-24 20:09:29 +0000 <alperbayrmm> Abi hiç gülünecek bir durum yok tüm Türkiye izliyor gülebiliyor\n",
            "1396911261842030592 2021-05-24 19:29:32 +0000 <alperbayrmm> Biz ne izliyoz abi ooo\n",
            "1396904828392071170 2021-05-24 19:03:58 +0000 <alperbayrmm> Soru soramayacaklarsa bu gazeteciler niye çıktı\n",
            "1396898844420546562 2021-05-24 18:40:12 +0000 <alperbayrmm> adam konuşuyor ama konuşmanın arkasında durmuyor..\n",
            "1396894901133094924 2021-05-24 18:24:32 +0000 <alperbayrmm> açtık habertürkü de bu adam ne anlatıyor böyle yine kendilerini övme falan... iş dönüp dolaşıp işin başı israil demeseler bari\n",
            "1396469939037515782 2021-05-23 14:15:53 +0000 <alperbayrmm> emoji dnm 😀😃😄😁😆😅😂🤣😇😍🥰😡🤬🥺😬😎😈😴😤🥱\n",
            "1395056914195746822 2021-05-19 16:41:01 +0000 <alperbayrmm> Konuyla ne alakası var\n",
            "1394357513668251652 2021-05-17 18:21:51 +0000 <alperbayrmm> Bi mevzuya da bakmayın kardeşim gidin başka işle uğraşın lan\n",
            "1394357382189305857 2021-05-17 18:21:20 +0000 <alperbayrmm> Ayrıca bu sektörde türeyen Hintlilerin amk karşılaşırsam hiç acımam\n",
            "1390445981787959311 2021-05-06 23:18:49 +0000 <alperbayrmm> It's programmed jajajjaj $link  https://t.co/5KQclpTf9v\n",
            "1390107511013916675 2021-05-06 00:53:52 +0000 <alperbayrmm> karanfilsin tarçınsın neden böyle hırçınsın\n",
            "1389741422056706050 2021-05-05 00:39:09 +0000 <alperbayrmm> #LINK 50$ olsun benim kumarım biter\n",
            "1389603879856349189 2021-05-04 15:32:37 +0000 <alperbayrmm> Bugün sıra altcoinlere gelmicek galiba\n",
            "1389603030228684803 2021-05-04 15:29:14 +0000 <alperbayrmm> Benim beyin firar\n",
            "1389602909172666372 2021-05-04 15:28:45 +0000 <alperbayrmm> O kadar çok öğrenmem gereken şey varki bu yükün altında kalmam umarım\n",
            "1389494282919239681 2021-05-04 08:17:07 +0000 <alperbayrmm> #DogecoinToTheMoon\n",
            "1389490959633850374 2021-05-04 08:03:54 +0000 <alperbayrmm> elon musk twit atsın diye bekliyorum x2 yapar\n",
            "1389269752238022656 2021-05-03 17:24:54 +0000 <alperbayrmm> @berkkberkkberkk @SonGulyabani @jeandpardaillan Ahmet Hamdi Tanpınar ?\n",
            "1389240778497699840 2021-05-03 15:29:47 +0000 <alperbayrmm> adama lisans verdik amk kullansın diye bi süre ulan git bari kendine crack falan yap sen nasıl piyasanın ekmeğini yiyorsun hayret\n",
            "1389239875614957571 2021-05-03 15:26:11 +0000 <alperbayrmm> bu kapatmalar yüzünden etkilenmeyen yoktur...\n",
            "1389127423971713026 2021-05-03 07:59:21 +0000 <alperbayrmm> bu da bi teşekkür etme yöntemi galiba.. ya da kullanılmışlık hissi  https://t.co/IxT5jaReWN\n",
            "1388699270883184642 2021-05-02 03:38:01 +0000 <alperbayrmm> @merveseell bangırr bangırr\n",
            "1388205721343430659 2021-04-30 18:56:50 +0000 <alperbayrmm> dağa tırmanıyoruz sanki yorulan bıraksın #sxp\n",
            "1387968739715473408 2021-04-30 03:15:09 +0000 <alperbayrmm> Ay’ı aydınlattık  https://t.co/rquOWMlKpT\n",
            "1387967980441645065 2021-04-30 03:12:08 +0000 <alperbayrmm> Oksijeni içimde hissettim şuan\n",
            "1387582407625347072 2021-04-29 01:40:00 +0000 <alperbayrmm> @cointoloji bizde kestiriyoruz yükseleceğini allaha şükür sen bi sonuça vardın sandım\n",
            "1387582248745062401 2021-04-29 01:39:22 +0000 <alperbayrmm> uyuyakalmışım uyandık\n",
            "1387581850453958656 2021-04-29 01:37:47 +0000 <alperbayrmm> @cointoloji sonuç olarak kardeşim\n",
            "1387581636481622016 2021-04-29 01:36:56 +0000 <alperbayrmm> #sxp kardeşim yavaş yavaş böyle ataklar bizi korkutur\n",
            "1387427919136444416 2021-04-28 15:26:07 +0000 <alperbayrmm> Kafamı bir araya getiremiyorum\n",
            "1386710028116180996 2021-04-26 15:53:29 +0000 <alperbayrmm> Kardeşim helikopter\n",
            "1386095473350660102 2021-04-24 23:11:27 +0000 <alperbayrmm> @Samilkrt @wowage Ulan bi tatil yapsam dert tasa kalmaz\n",
            "1384061769975418885 2021-04-19 08:30:15 +0000 <alperbayrmm> I just published FİNANSTA BLOCKCHAIN TEKNOLOJİSİ  https://t.co/TucfLpyCqt\n",
            "1378258756627279874 2021-04-03 08:11:09 +0000 <alperbayrmm> Sabah sabah kırmızı oda dizisinin sesini duyarak uyandım çıldırıcam\n",
            "1378165823588737024 2021-04-03 02:01:52 +0000 <alperbayrmm> Saat beşte aklımdan çıkmayan am sorri ha    https://t.co/XYjM9UDQZx\n",
            "1377684274795716613 2021-04-01 18:08:21 +0000 <alperbayrmm> bugün trendyolda işe girmedim\n",
            "1361056963484909581 2021-02-14 20:57:21 +0000 <alperbayrmm> Adamın sesi gelmiyor amk\n",
            "1344059339808657414 2020-12-29 23:14:52 +0000 <alperbayrmm> Im not normal\n",
            "[!] No more data! Scraping will stop now.\n",
            "found 0 deleted tweets in this search.\n",
            "başarılı!\n"
          ],
          "name": "stdout"
        }
      ]
    },
    {
      "cell_type": "code",
      "metadata": {
        "id": "WPSXvie8wf5u"
      },
      "source": [
        "    df_Tweetler=Tweets_df.filter(items=['tweet'])\n",
        "    df_Tweets = pd.DataFrame(df_Tweetler)"
      ],
      "execution_count": 12,
      "outputs": []
    },
    {
      "cell_type": "code",
      "metadata": {
        "colab": {
          "base_uri": "https://localhost:8080/"
        },
        "id": "UOX8qLymwj_8",
        "outputId": "18136d5e-f5b5-499f-b773-15fd11d2750e"
      },
      "source": [
        " df_Tweets.info() "
      ],
      "execution_count": 13,
      "outputs": [
        {
          "output_type": "stream",
          "text": [
            "<class 'pandas.core.frame.DataFrame'>\n",
            "RangeIndex: 50 entries, 0 to 49\n",
            "Data columns (total 1 columns):\n",
            " #   Column  Non-Null Count  Dtype \n",
            "---  ------  --------------  ----- \n",
            " 0   tweet   50 non-null     object\n",
            "dtypes: object(1)\n",
            "memory usage: 528.0+ bytes\n"
          ],
          "name": "stdout"
        }
      ]
    },
    {
      "cell_type": "markdown",
      "metadata": {
        "id": "9jlRBEZ7yjfJ"
      },
      "source": [
        "# **Tweetlerin temizlenmesi **"
      ]
    },
    {
      "cell_type": "code",
      "metadata": {
        "id": "UB3W50uaxIYz"
      },
      "source": [
        "\n",
        "#noktalama işaretleri\n",
        "df_Tweets[\"tweet\"] = df_Tweets[\"tweet\"].str.replace('[^\\w\\s]','')\n",
        "# #sayılar\n",
        "df_Tweets[\"tweet\"]= df_Tweets[\"tweet\"].str.replace('\\d','')\n",
        "# df_Tweetler[\"Tweets\"]= df_Tweetler[\"Tweets\"].str.replace('(?:\\@|http?\\://|https?\\://|www\\S+)','')\n",
        "df_Tweets[\"tweet\"]= df_Tweets[\"tweet\"].str.replace('@[A-Za-z0-9]+','')\n",
        "df_Tweets[\"tweet\"] =df_Tweets[\"tweet\"].str.replace('http\\S+','')"
      ],
      "execution_count": 14,
      "outputs": []
    },
    {
      "cell_type": "code",
      "metadata": {
        "colab": {
          "base_uri": "https://localhost:8080/"
        },
        "id": "jVjR5KmiudSU",
        "outputId": "52810a5f-5aff-4dea-8c56-710436ee9b33"
      },
      "source": [
        "df_Tweets[\"tweet\"]"
      ],
      "execution_count": 15,
      "outputs": [
        {
          "output_type": "execute_result",
          "data": {
            "text/plain": [
              "0              fazla hırpalanmadan kapatalım bu defteri\n",
              "1     Farazi amp Kayra  Mertel Kasetçilik gece gece ...\n",
              "2          O dur o anladın sen onu SendenNefretEdiyoruz\n",
              "3                                Hayırlı uğurlu olsun  \n",
              "4                          Basket faul ya mükemmelsiniz\n",
              "5             Larkin yeterki istesin evden atar basketi\n",
              "6                    da faul aldı Anadolu Efes mükemmel\n",
              "7     ben hayatın sillesini yemiş ve üzerine depikle...\n",
              "8                               hayatı şikayet ediyorum\n",
              "9                                                    Cv\n",
              "10                penaltılar bitmeyecek sandım UELfinal\n",
              "11                       bu gecenin sorumlusu ben miyim\n",
              "12    Abi hiç gülünecek bir durum yok tüm Türkiye iz...\n",
              "13                               Biz ne izliyoz abi ooo\n",
              "14      Soru soramayacaklarsa bu gazeteciler niye çıktı\n",
              "15     adam konuşuyor ama konuşmanın arkasında durmuyor\n",
              "16    açtık habertürkü de bu adam ne anlatıyor böyle...\n",
              "17                                           emoji dnm \n",
              "18                               Konuyla ne alakası var\n",
              "19    Bi mevzuya da bakmayın kardeşim gidin başka iş...\n",
              "20    Ayrıca bu sektörde türeyen Hintlilerin amk kar...\n",
              "21                       Its programmed jajajjaj link  \n",
              "22          karanfilsin tarçınsın neden böyle hırçınsın\n",
              "23                      LINK  olsun benim kumarım biter\n",
              "24               Bugün sıra altcoinlere gelmicek galiba\n",
              "25                                    Benim beyin firar\n",
              "26    O kadar çok öğrenmem gereken şey varki bu yükü...\n",
              "27                                    DogecoinToTheMoon\n",
              "28         elon musk twit atsın diye bekliyorum x yapar\n",
              "29    berkkberkkberkk SonGulyabani jeandpardaillan A...\n",
              "30    adama lisans verdik amk kullansın diye bi süre...\n",
              "31           bu kapatmalar yüzünden etkilenmeyen yoktur\n",
              "32    bu da bi teşekkür etme yöntemi galiba ya da ku...\n",
              "33                           merveseell bangırr bangırr\n",
              "34         dağa tırmanıyoruz sanki yorulan bıraksın sxp\n",
              "35                                    Ayı aydınlattık  \n",
              "36                       Oksijeni içimde hissettim şuan\n",
              "37    cointoloji bizde kestiriyoruz yükseleceğini al...\n",
              "38                                uyuyakalmışım uyandık\n",
              "39                     cointoloji sonuç olarak kardeşim\n",
              "40    sxp kardeşim yavaş yavaş böyle ataklar bizi ko...\n",
              "41                       Kafamı bir araya getiremiyorum\n",
              "42                                  Kardeşim helikopter\n",
              "43    Samilkrt wowage Ulan bi tatil yapsam dert tasa...\n",
              "44    I just published FİNANSTA BLOCKCHAIN TEKNOLOJİ...\n",
              "45    Sabah sabah kırmızı oda dizisinin sesini duyar...\n",
              "46         Saat beşte aklımdan çıkmayan am sorri ha    \n",
              "47                        bugün trendyolda işe girmedim\n",
              "48                             Adamın sesi gelmiyor amk\n",
              "49                                        Im not normal\n",
              "Name: tweet, dtype: object"
            ]
          },
          "metadata": {
            "tags": []
          },
          "execution_count": 15
        }
      ]
    },
    {
      "cell_type": "code",
      "metadata": {
        "colab": {
          "base_uri": "https://localhost:8080/"
        },
        "id": "MeoQAS7buxBk",
        "outputId": "4bf26f73-937a-41ad-be61-7cf24a0abe63"
      },
      "source": [
        "text = \" \".join(review for review in df_Tweets.tweet)\n",
        "print (\"There are {} words in the combination of all review.\".format(len(text)))"
      ],
      "execution_count": 19,
      "outputs": [
        {
          "output_type": "stream",
          "text": [
            "There are 2231 words in the combination of all review.\n"
          ],
          "name": "stdout"
        }
      ]
    },
    {
      "cell_type": "code",
      "metadata": {
        "colab": {
          "base_uri": "https://localhost:8080/",
          "height": 310
        },
        "id": "6cQBDEErun06",
        "outputId": "197411f4-c383-4e35-8210-a83eaf9dcd2e"
      },
      "source": [
        "\n",
        "stopwords = set(STOPWORDS)\n",
        "stopwords.update([\"ben\", \"sen\", \"biz\", \"de\", \"ki\", \"ve\", \"da\", \"bir\", \"ile\", \"için\", \"bu\", \"ne\", \"gibi\",\"amk\"])\n",
        "\n",
        "wordcloud = WordCloud(stopwords=stopwords, background_color=\"black\").generate(text)\n",
        "plt.figure(figsize=[10,10])\n",
        "plt.imshow(wordcloud, interpolation='bilinear')\n",
        "plt.axis(\"off\")\n",
        "\n",
        "plt.show()"
      ],
      "execution_count": 23,
      "outputs": [
        {
          "output_type": "display_data",
          "data": {
            "image/png": "[encoded data removed]",
            "text/plain": [
              "<Figure size 720x720 with 1 Axes>"
            ]
          },
          "metadata": {
            "tags": [],
            "needs_background": "light"
          }
        }
      ]
    },
    {
      "cell_type": "code",
      "metadata": {
        "colab": {
          "base_uri": "https://localhost:8080/"
        },
        "id": "LiVV6v7twFxo",
        "outputId": "6d4e663d-5676-4075-8543-ebe2248ab7f9"
      },
      "source": [
        "data_path =  \"/resource/\"\n",
        "\n",
        "try:\n",
        "    drive.mount('/content/drive')\n",
        "    data_path = \"/content/drive/My Drive/resource/\"\n",
        "\n",
        "except:\n",
        "    print(\"You are not working in Colab at the moment :(\")"
      ],
      "execution_count": 28,
      "outputs": [
        {
          "output_type": "stream",
          "text": [
            "Mounted at /content/drive\n"
          ],
          "name": "stdout"
        }
      ]
    },
    {
      "cell_type": "code",
      "metadata": {
        "colab": {
          "base_uri": "https://localhost:8080/"
        },
        "id": "sbmNq17DvXye",
        "outputId": "9e922df9-429a-4987-92fa-0085d93050ae"
      },
      "source": [
        "wordcloud.to_file(\"/content/drive/My Drive/img/kelimebulutu.png\")"
      ],
      "execution_count": 29,
      "outputs": [
        {
          "output_type": "execute_result",
          "data": {
            "text/plain": [
              "<wordcloud.wordcloud.WordCloud at 0x7f4714cd1050>"
            ]
          },
          "metadata": {
            "tags": []
          },
          "execution_count": 29
        }
      ]
    },
    {
      "cell_type": "markdown",
      "metadata": {
        "id": "h4JjAqPixLuK"
      },
      "source": [
        "# **DUYGU ANALİZİ KISMI BERT MODELLERİNİN YÜKLENMESİ**"
      ]
    },
    {
      "cell_type": "code",
      "metadata": {
        "id": "s2suB7WxxYC2"
      },
      "source": [
        "from transformers import pipeline, AutoModelForTokenClassification, AutoTokenizer, AutoModelForSequenceClassification"
      ],
      "execution_count": 32,
      "outputs": []
    },
    {
      "cell_type": "code",
      "metadata": {
        "id": "cnUR7hMfxdLV"
      },
      "source": [
        "tokenizer= AutoTokenizer.from_pretrained(\"savasy/bert-base-turkish-sentiment-cased\")\n",
        "model= AutoModelForSequenceClassification.from_pretrained(\"savasy/bert-base-turkish-sentiment-cased\")"
      ],
      "execution_count": 33,
      "outputs": []
    },
    {
      "cell_type": "code",
      "metadata": {
        "id": "KZLHuZ0exmVG"
      },
      "source": [
        "analysis=pipeline(\"sentiment-analysis\", model=model, tokenizer=tokenizer)"
      ],
      "execution_count": 34,
      "outputs": []
    },
    {
      "cell_type": "code",
      "metadata": {
        "colab": {
          "base_uri": "https://localhost:8080/"
        },
        "id": "OJezzfROxq4t",
        "outputId": "753c77c6-68a2-4569-e622-d69027c6816a"
      },
      "source": [
        "analysis(\"allah belanı versin. seni sevmiyorum.\")"
      ],
      "execution_count": 35,
      "outputs": [
        {
          "output_type": "execute_result",
          "data": {
            "text/plain": [
              "[{'label': 'negative', 'score': 0.9965597987174988}]"
            ]
          },
          "metadata": {
            "tags": []
          },
          "execution_count": 35
        }
      ]
    },
    {
      "cell_type": "code",
      "metadata": {
        "id": "GX48T-53zqU5"
      },
      "source": [
        "code_to_label={\n",
        " 'negative': 'negatif',\n",
        " 'positive': 'pozitif',\n",
        "    'notr': 'notr'\n",
        "    \n",
        "}"
      ],
      "execution_count": 36,
      "outputs": []
    },
    {
      "cell_type": "code",
      "metadata": {
        "colab": {
          "base_uri": "https://localhost:8080/"
        },
        "id": "03jjCj38xx4A",
        "outputId": "95534f0b-71d0-4bc3-c0a0-baed3ab9d1b6"
      },
      "source": [
        "orders = df_Tweets.value_counts().count()\n",
        "print('Tweet sayısı :',orders)\n",
        "#len(df_Tweetler.Tweets)"
      ],
      "execution_count": 37,
      "outputs": [
        {
          "output_type": "stream",
          "text": [
            "Tweet sayısı : 50\n"
          ],
          "name": "stdout"
        }
      ]
    },
    {
      "cell_type": "code",
      "metadata": {
        "colab": {
          "base_uri": "https://localhost:8080/"
        },
        "id": "1KadtQ3EyKOO",
        "outputId": "d5bcc659-e212-4c24-b7ef-ebe9c3bbaab2"
      },
      "source": [
        "Tweet = list(df_Tweets['tweet'])\n",
        "Tweet"
      ],
      "execution_count": 38,
      "outputs": [
        {
          "output_type": "execute_result",
          "data": {
            "text/plain": [
              "['fazla hırpalanmadan kapatalım bu defteri',\n",
              " 'Farazi amp Kayra  Mertel Kasetçilik gece gece bi klibi izleyip duygulandık',\n",
              " 'O dur o anladın sen onu SendenNefretEdiyoruz',\n",
              " 'Hayırlı uğurlu olsun  ',\n",
              " 'Basket faul ya mükemmelsiniz',\n",
              " 'Larkin yeterki istesin evden atar basketi',\n",
              " ' da faul aldı Anadolu Efes mükemmel',\n",
              " 'ben hayatın sillesini yemiş ve üzerine depiklerle yere düştükten sonra hayat tarafından yerde tekmelenmiş bir insanım',\n",
              " 'hayatı şikayet ediyorum',\n",
              " 'Cv',\n",
              " 'penaltılar bitmeyecek sandım UELfinal',\n",
              " 'bu gecenin sorumlusu ben miyim',\n",
              " 'Abi hiç gülünecek bir durum yok tüm Türkiye izliyor gülebiliyor',\n",
              " 'Biz ne izliyoz abi ooo',\n",
              " 'Soru soramayacaklarsa bu gazeteciler niye çıktı',\n",
              " 'adam konuşuyor ama konuşmanın arkasında durmuyor',\n",
              " 'açtık habertürkü de bu adam ne anlatıyor böyle yine kendilerini övme falan iş dönüp dolaşıp işin başı israil demeseler bari',\n",
              " 'emoji dnm ',\n",
              " 'Konuyla ne alakası var',\n",
              " 'Bi mevzuya da bakmayın kardeşim gidin başka işle uğraşın lan',\n",
              " 'Ayrıca bu sektörde türeyen Hintlilerin amk karşılaşırsam hiç acımam',\n",
              " 'Its programmed jajajjaj link  ',\n",
              " 'karanfilsin tarçınsın neden böyle hırçınsın',\n",
              " 'LINK  olsun benim kumarım biter',\n",
              " 'Bugün sıra altcoinlere gelmicek galiba',\n",
              " 'Benim beyin firar',\n",
              " 'O kadar çok öğrenmem gereken şey varki bu yükün altında kalmam umarım',\n",
              " 'DogecoinToTheMoon',\n",
              " 'elon musk twit atsın diye bekliyorum x yapar',\n",
              " 'berkkberkkberkk SonGulyabani jeandpardaillan Ahmet Hamdi Tanpınar ',\n",
              " 'adama lisans verdik amk kullansın diye bi süre ulan git bari kendine crack falan yap sen nasıl piyasanın ekmeğini yiyorsun hayret',\n",
              " 'bu kapatmalar yüzünden etkilenmeyen yoktur',\n",
              " 'bu da bi teşekkür etme yöntemi galiba ya da kullanılmışlık hissi  ',\n",
              " 'merveseell bangırr bangırr',\n",
              " 'dağa tırmanıyoruz sanki yorulan bıraksın sxp',\n",
              " 'Ayı aydınlattık  ',\n",
              " 'Oksijeni içimde hissettim şuan',\n",
              " 'cointoloji bizde kestiriyoruz yükseleceğini allaha şükür sen bi sonuça vardın sandım',\n",
              " 'uyuyakalmışım uyandık',\n",
              " 'cointoloji sonuç olarak kardeşim',\n",
              " 'sxp kardeşim yavaş yavaş böyle ataklar bizi korkutur',\n",
              " 'Kafamı bir araya getiremiyorum',\n",
              " 'Kardeşim helikopter',\n",
              " 'Samilkrt wowage Ulan bi tatil yapsam dert tasa kalmaz',\n",
              " 'I just published FİNANSTA BLOCKCHAIN TEKNOLOJİSİ  ',\n",
              " 'Sabah sabah kırmızı oda dizisinin sesini duyarak uyandım çıldırıcam',\n",
              " 'Saat beşte aklımdan çıkmayan am sorri ha    ',\n",
              " 'bugün trendyolda işe girmedim',\n",
              " 'Adamın sesi gelmiyor amk',\n",
              " 'Im not normal']"
            ]
          },
          "metadata": {
            "tags": []
          },
          "execution_count": 38
        }
      ]
    },
    {
      "cell_type": "markdown",
      "metadata": {
        "id": "Umqr5mIjzWFE"
      },
      "source": [
        "# **Tweeetlerin tek tek gezilmesi ve sonuçların ve scorun boş diziye aktarılması**"
      ]
    },
    {
      "cell_type": "code",
      "metadata": {
        "id": "qAL5_l6OzR9c"
      },
      "source": [
        "d= list()\n",
        "k= list()\n",
        "for i in range(orders):\n",
        "                    c= analysis(Tweet[i])\n",
        "                    #a = c[0]['label']\n",
        "                    a = code_to_label[c[0]['label']]\n",
        "                    h =  c[0]['score']\n",
        "                    #d =np.append(a)\n",
        "                    d.append(a)\n",
        "                    k.append(h)"
      ],
      "execution_count": 39,
      "outputs": []
    },
    {
      "cell_type": "markdown",
      "metadata": {
        "id": "xgqsxrsxz5eD"
      },
      "source": [
        "# **Sonuçların Tabloya eklenmesi**"
      ]
    },
    {
      "cell_type": "code",
      "metadata": {
        "id": "OGJgJU-wzxMJ"
      },
      "source": [
        "d\n",
        "df_Tweetler[\"Tweets_duygu\"]= pd.DataFrame(d)\n",
        "#df_Tweetler[\"Tweets_duygu\"]=df_Tweetler[\"Tweets\"].map(lambda x: \"\".join(d))\n"
      ],
      "execution_count": 40,
      "outputs": []
    },
    {
      "cell_type": "code",
      "metadata": {
        "colab": {
          "base_uri": "https://localhost:8080/",
          "height": 1000
        },
        "id": "5fOB047vz_fG",
        "outputId": "0e8b2cf9-41db-4226-c855-0f9e7b06b6fb"
      },
      "source": [
        "df_Tweetler"
      ],
      "execution_count": 41,
      "outputs": [
        {
          "output_type": "execute_result",
          "data": {
            "text/html": [
              "<div>\n",
              "<style scoped>\n",
              "    .dataframe tbody tr th:only-of-type {\n",
              "        vertical-align: middle;\n",
              "    }\n",
              "\n",
              "    .dataframe tbody tr th {\n",
              "        vertical-align: top;\n",
              "    }\n",
              "\n",
              "    .dataframe thead th {\n",
              "        text-align: right;\n",
              "    }\n",
              "</style>\n",
              "<table border=\"1\" class=\"dataframe\">\n",
              "  <thead>\n",
              "    <tr style=\"text-align: right;\">\n",
              "      <th></th>\n",
              "      <th>tweet</th>\n",
              "      <th>Tweets_duygu</th>\n",
              "    </tr>\n",
              "  </thead>\n",
              "  <tbody>\n",
              "    <tr>\n",
              "      <th>0</th>\n",
              "      <td>fazla hırpalanmadan kapatalım bu defteri</td>\n",
              "      <td>negatif</td>\n",
              "    </tr>\n",
              "    <tr>\n",
              "      <th>1</th>\n",
              "      <td>Farazi amp Kayra  Mertel Kasetçilik gece gece ...</td>\n",
              "      <td>negatif</td>\n",
              "    </tr>\n",
              "    <tr>\n",
              "      <th>2</th>\n",
              "      <td>O dur o anladın sen onu SendenNefretEdiyoruz</td>\n",
              "      <td>pozitif</td>\n",
              "    </tr>\n",
              "    <tr>\n",
              "      <th>3</th>\n",
              "      <td>Hayırlı uğurlu olsun</td>\n",
              "      <td>pozitif</td>\n",
              "    </tr>\n",
              "    <tr>\n",
              "      <th>4</th>\n",
              "      <td>Basket faul ya mükemmelsiniz</td>\n",
              "      <td>pozitif</td>\n",
              "    </tr>\n",
              "    <tr>\n",
              "      <th>5</th>\n",
              "      <td>Larkin yeterki istesin evden atar basketi</td>\n",
              "      <td>pozitif</td>\n",
              "    </tr>\n",
              "    <tr>\n",
              "      <th>6</th>\n",
              "      <td>da faul aldı Anadolu Efes mükemmel</td>\n",
              "      <td>pozitif</td>\n",
              "    </tr>\n",
              "    <tr>\n",
              "      <th>7</th>\n",
              "      <td>ben hayatın sillesini yemiş ve üzerine depikle...</td>\n",
              "      <td>negatif</td>\n",
              "    </tr>\n",
              "    <tr>\n",
              "      <th>8</th>\n",
              "      <td>hayatı şikayet ediyorum</td>\n",
              "      <td>negatif</td>\n",
              "    </tr>\n",
              "    <tr>\n",
              "      <th>9</th>\n",
              "      <td>Cv</td>\n",
              "      <td>pozitif</td>\n",
              "    </tr>\n",
              "    <tr>\n",
              "      <th>10</th>\n",
              "      <td>penaltılar bitmeyecek sandım UELfinal</td>\n",
              "      <td>pozitif</td>\n",
              "    </tr>\n",
              "    <tr>\n",
              "      <th>11</th>\n",
              "      <td>bu gecenin sorumlusu ben miyim</td>\n",
              "      <td>negatif</td>\n",
              "    </tr>\n",
              "    <tr>\n",
              "      <th>12</th>\n",
              "      <td>Abi hiç gülünecek bir durum yok tüm Türkiye iz...</td>\n",
              "      <td>pozitif</td>\n",
              "    </tr>\n",
              "    <tr>\n",
              "      <th>13</th>\n",
              "      <td>Biz ne izliyoz abi ooo</td>\n",
              "      <td>pozitif</td>\n",
              "    </tr>\n",
              "    <tr>\n",
              "      <th>14</th>\n",
              "      <td>Soru soramayacaklarsa bu gazeteciler niye çıktı</td>\n",
              "      <td>negatif</td>\n",
              "    </tr>\n",
              "    <tr>\n",
              "      <th>15</th>\n",
              "      <td>adam konuşuyor ama konuşmanın arkasında durmuyor</td>\n",
              "      <td>negatif</td>\n",
              "    </tr>\n",
              "    <tr>\n",
              "      <th>16</th>\n",
              "      <td>açtık habertürkü de bu adam ne anlatıyor böyle...</td>\n",
              "      <td>negatif</td>\n",
              "    </tr>\n",
              "    <tr>\n",
              "      <th>17</th>\n",
              "      <td>emoji dnm</td>\n",
              "      <td>pozitif</td>\n",
              "    </tr>\n",
              "    <tr>\n",
              "      <th>18</th>\n",
              "      <td>Konuyla ne alakası var</td>\n",
              "      <td>negatif</td>\n",
              "    </tr>\n",
              "    <tr>\n",
              "      <th>19</th>\n",
              "      <td>Bi mevzuya da bakmayın kardeşim gidin başka iş...</td>\n",
              "      <td>negatif</td>\n",
              "    </tr>\n",
              "    <tr>\n",
              "      <th>20</th>\n",
              "      <td>Ayrıca bu sektörde türeyen Hintlilerin amk kar...</td>\n",
              "      <td>negatif</td>\n",
              "    </tr>\n",
              "    <tr>\n",
              "      <th>21</th>\n",
              "      <td>Its programmed jajajjaj link</td>\n",
              "      <td>pozitif</td>\n",
              "    </tr>\n",
              "    <tr>\n",
              "      <th>22</th>\n",
              "      <td>karanfilsin tarçınsın neden böyle hırçınsın</td>\n",
              "      <td>negatif</td>\n",
              "    </tr>\n",
              "    <tr>\n",
              "      <th>23</th>\n",
              "      <td>LINK  olsun benim kumarım biter</td>\n",
              "      <td>negatif</td>\n",
              "    </tr>\n",
              "    <tr>\n",
              "      <th>24</th>\n",
              "      <td>Bugün sıra altcoinlere gelmicek galiba</td>\n",
              "      <td>negatif</td>\n",
              "    </tr>\n",
              "    <tr>\n",
              "      <th>25</th>\n",
              "      <td>Benim beyin firar</td>\n",
              "      <td>negatif</td>\n",
              "    </tr>\n",
              "    <tr>\n",
              "      <th>26</th>\n",
              "      <td>O kadar çok öğrenmem gereken şey varki bu yükü...</td>\n",
              "      <td>pozitif</td>\n",
              "    </tr>\n",
              "    <tr>\n",
              "      <th>27</th>\n",
              "      <td>DogecoinToTheMoon</td>\n",
              "      <td>pozitif</td>\n",
              "    </tr>\n",
              "    <tr>\n",
              "      <th>28</th>\n",
              "      <td>elon musk twit atsın diye bekliyorum x yapar</td>\n",
              "      <td>pozitif</td>\n",
              "    </tr>\n",
              "    <tr>\n",
              "      <th>29</th>\n",
              "      <td>berkkberkkberkk SonGulyabani jeandpardaillan A...</td>\n",
              "      <td>pozitif</td>\n",
              "    </tr>\n",
              "    <tr>\n",
              "      <th>30</th>\n",
              "      <td>adama lisans verdik amk kullansın diye bi süre...</td>\n",
              "      <td>negatif</td>\n",
              "    </tr>\n",
              "    <tr>\n",
              "      <th>31</th>\n",
              "      <td>bu kapatmalar yüzünden etkilenmeyen yoktur</td>\n",
              "      <td>negatif</td>\n",
              "    </tr>\n",
              "    <tr>\n",
              "      <th>32</th>\n",
              "      <td>bu da bi teşekkür etme yöntemi galiba ya da ku...</td>\n",
              "      <td>negatif</td>\n",
              "    </tr>\n",
              "    <tr>\n",
              "      <th>33</th>\n",
              "      <td>merveseell bangırr bangırr</td>\n",
              "      <td>pozitif</td>\n",
              "    </tr>\n",
              "    <tr>\n",
              "      <th>34</th>\n",
              "      <td>dağa tırmanıyoruz sanki yorulan bıraksın sxp</td>\n",
              "      <td>pozitif</td>\n",
              "    </tr>\n",
              "    <tr>\n",
              "      <th>35</th>\n",
              "      <td>Ayı aydınlattık</td>\n",
              "      <td>negatif</td>\n",
              "    </tr>\n",
              "    <tr>\n",
              "      <th>36</th>\n",
              "      <td>Oksijeni içimde hissettim şuan</td>\n",
              "      <td>pozitif</td>\n",
              "    </tr>\n",
              "    <tr>\n",
              "      <th>37</th>\n",
              "      <td>cointoloji bizde kestiriyoruz yükseleceğini al...</td>\n",
              "      <td>pozitif</td>\n",
              "    </tr>\n",
              "    <tr>\n",
              "      <th>38</th>\n",
              "      <td>uyuyakalmışım uyandık</td>\n",
              "      <td>negatif</td>\n",
              "    </tr>\n",
              "    <tr>\n",
              "      <th>39</th>\n",
              "      <td>cointoloji sonuç olarak kardeşim</td>\n",
              "      <td>pozitif</td>\n",
              "    </tr>\n",
              "    <tr>\n",
              "      <th>40</th>\n",
              "      <td>sxp kardeşim yavaş yavaş böyle ataklar bizi ko...</td>\n",
              "      <td>pozitif</td>\n",
              "    </tr>\n",
              "    <tr>\n",
              "      <th>41</th>\n",
              "      <td>Kafamı bir araya getiremiyorum</td>\n",
              "      <td>negatif</td>\n",
              "    </tr>\n",
              "    <tr>\n",
              "      <th>42</th>\n",
              "      <td>Kardeşim helikopter</td>\n",
              "      <td>pozitif</td>\n",
              "    </tr>\n",
              "    <tr>\n",
              "      <th>43</th>\n",
              "      <td>Samilkrt wowage Ulan bi tatil yapsam dert tasa...</td>\n",
              "      <td>pozitif</td>\n",
              "    </tr>\n",
              "    <tr>\n",
              "      <th>44</th>\n",
              "      <td>I just published FİNANSTA BLOCKCHAIN TEKNOLOJİ...</td>\n",
              "      <td>pozitif</td>\n",
              "    </tr>\n",
              "    <tr>\n",
              "      <th>45</th>\n",
              "      <td>Sabah sabah kırmızı oda dizisinin sesini duyar...</td>\n",
              "      <td>negatif</td>\n",
              "    </tr>\n",
              "    <tr>\n",
              "      <th>46</th>\n",
              "      <td>Saat beşte aklımdan çıkmayan am sorri ha</td>\n",
              "      <td>pozitif</td>\n",
              "    </tr>\n",
              "    <tr>\n",
              "      <th>47</th>\n",
              "      <td>bugün trendyolda işe girmedim</td>\n",
              "      <td>negatif</td>\n",
              "    </tr>\n",
              "    <tr>\n",
              "      <th>48</th>\n",
              "      <td>Adamın sesi gelmiyor amk</td>\n",
              "      <td>pozitif</td>\n",
              "    </tr>\n",
              "    <tr>\n",
              "      <th>49</th>\n",
              "      <td>Im not normal</td>\n",
              "      <td>negatif</td>\n",
              "    </tr>\n",
              "  </tbody>\n",
              "</table>\n",
              "</div>"
            ],
            "text/plain": [
              "                                                tweet Tweets_duygu\n",
              "0            fazla hırpalanmadan kapatalım bu defteri      negatif\n",
              "1   Farazi amp Kayra  Mertel Kasetçilik gece gece ...      negatif\n",
              "2        O dur o anladın sen onu SendenNefretEdiyoruz      pozitif\n",
              "3                              Hayırlı uğurlu olsun        pozitif\n",
              "4                        Basket faul ya mükemmelsiniz      pozitif\n",
              "5           Larkin yeterki istesin evden atar basketi      pozitif\n",
              "6                  da faul aldı Anadolu Efes mükemmel      pozitif\n",
              "7   ben hayatın sillesini yemiş ve üzerine depikle...      negatif\n",
              "8                             hayatı şikayet ediyorum      negatif\n",
              "9                                                  Cv      pozitif\n",
              "10              penaltılar bitmeyecek sandım UELfinal      pozitif\n",
              "11                     bu gecenin sorumlusu ben miyim      negatif\n",
              "12  Abi hiç gülünecek bir durum yok tüm Türkiye iz...      pozitif\n",
              "13                             Biz ne izliyoz abi ooo      pozitif\n",
              "14    Soru soramayacaklarsa bu gazeteciler niye çıktı      negatif\n",
              "15   adam konuşuyor ama konuşmanın arkasında durmuyor      negatif\n",
              "16  açtık habertürkü de bu adam ne anlatıyor böyle...      negatif\n",
              "17                                         emoji dnm       pozitif\n",
              "18                             Konuyla ne alakası var      negatif\n",
              "19  Bi mevzuya da bakmayın kardeşim gidin başka iş...      negatif\n",
              "20  Ayrıca bu sektörde türeyen Hintlilerin amk kar...      negatif\n",
              "21                     Its programmed jajajjaj link        pozitif\n",
              "22        karanfilsin tarçınsın neden böyle hırçınsın      negatif\n",
              "23                    LINK  olsun benim kumarım biter      negatif\n",
              "24             Bugün sıra altcoinlere gelmicek galiba      negatif\n",
              "25                                  Benim beyin firar      negatif\n",
              "26  O kadar çok öğrenmem gereken şey varki bu yükü...      pozitif\n",
              "27                                  DogecoinToTheMoon      pozitif\n",
              "28       elon musk twit atsın diye bekliyorum x yapar      pozitif\n",
              "29  berkkberkkberkk SonGulyabani jeandpardaillan A...      pozitif\n",
              "30  adama lisans verdik amk kullansın diye bi süre...      negatif\n",
              "31         bu kapatmalar yüzünden etkilenmeyen yoktur      negatif\n",
              "32  bu da bi teşekkür etme yöntemi galiba ya da ku...      negatif\n",
              "33                         merveseell bangırr bangırr      pozitif\n",
              "34       dağa tırmanıyoruz sanki yorulan bıraksın sxp      pozitif\n",
              "35                                  Ayı aydınlattık        negatif\n",
              "36                     Oksijeni içimde hissettim şuan      pozitif\n",
              "37  cointoloji bizde kestiriyoruz yükseleceğini al...      pozitif\n",
              "38                              uyuyakalmışım uyandık      negatif\n",
              "39                   cointoloji sonuç olarak kardeşim      pozitif\n",
              "40  sxp kardeşim yavaş yavaş böyle ataklar bizi ko...      pozitif\n",
              "41                     Kafamı bir araya getiremiyorum      negatif\n",
              "42                                Kardeşim helikopter      pozitif\n",
              "43  Samilkrt wowage Ulan bi tatil yapsam dert tasa...      pozitif\n",
              "44  I just published FİNANSTA BLOCKCHAIN TEKNOLOJİ...      pozitif\n",
              "45  Sabah sabah kırmızı oda dizisinin sesini duyar...      negatif\n",
              "46       Saat beşte aklımdan çıkmayan am sorri ha          pozitif\n",
              "47                      bugün trendyolda işe girmedim      negatif\n",
              "48                           Adamın sesi gelmiyor amk      pozitif\n",
              "49                                      Im not normal      negatif"
            ]
          },
          "metadata": {
            "tags": []
          },
          "execution_count": 41
        }
      ]
    },
    {
      "cell_type": "markdown",
      "metadata": {
        "id": "rjormu8r0NGz"
      },
      "source": [
        "# **Sonuç**"
      ]
    },
    {
      "cell_type": "code",
      "metadata": {
        "colab": {
          "base_uri": "https://localhost:8080/"
        },
        "id": "EDfsFgpl0LXe",
        "outputId": "275cc4fa-c51c-4637-f08f-f34bb1a4f591"
      },
      "source": [
        "df_Tweetler['Tweets_duygu'].value_counts()"
      ],
      "execution_count": 42,
      "outputs": [
        {
          "output_type": "execute_result",
          "data": {
            "text/plain": [
              "pozitif    26\n",
              "negatif    24\n",
              "Name: Tweets_duygu, dtype: int64"
            ]
          },
          "metadata": {
            "tags": []
          },
          "execution_count": 42
        }
      ]
    },
    {
      "cell_type": "markdown",
      "metadata": {
        "id": "_TK70cY00FSw"
      },
      "source": [
        "# **Sonuçların Görselleştirilmesi**"
      ]
    },
    {
      "cell_type": "code",
      "metadata": {
        "colab": {
          "base_uri": "https://localhost:8080/",
          "height": 279
        },
        "id": "5lsIVIn10ETp",
        "outputId": "fb3f805a-ba1d-461b-e31d-40123099fc1c"
      },
      "source": [
        "sns.countplot(df_Tweetler.Tweets_duygu)\n",
        "plt.xlabel('inceleme');"
      ],
      "execution_count": 43,
      "outputs": [
        {
          "output_type": "display_data",
          "data": {
            "image/png": "[encoded data removed]",
            "text/plain": [
              "<Figure size 432x288 with 1 Axes>"
            ]
          },
          "metadata": {
            "tags": [],
            "needs_background": "light"
          }
        }
      ]
    },
    {
      "cell_type": "markdown",
      "metadata": {
        "id": "N7yq3ThB0f4P"
      },
      "source": [
        "# **Pasta histogram ile gösterilmesi**"
      ]
    },
    {
      "cell_type": "code",
      "metadata": {
        "colab": {
          "base_uri": "https://localhost:8080/",
          "height": 297
        },
        "id": "20LxIGiN0cHx",
        "outputId": "91579a0e-328c-4b1f-dbcb-bc2aa8328260"
      },
      "source": [
        "\n",
        "pozitif = (df_Tweetler['Tweets_duygu'] == 'pozitif').sum()\n",
        "negatif = (df_Tweetler['Tweets_duygu'] == 'negatif').sum()\n",
        "\n",
        "# put them into a list called proportions\n",
        "proportions = [pozitif, negatif]\n",
        "\n",
        "# Create a pie chart\n",
        "plt.pie(\n",
        "    # using proportions\n",
        "    proportions,\n",
        "    \n",
        "    # with the labels being officer names\n",
        "    labels = ['pozitif', 'Negatif'],\n",
        "    \n",
        "    # with no shadows\n",
        "    shadow = False,\n",
        "    \n",
        "    # with colors\n",
        "    colors = ['blue','red'],\n",
        "    \n",
        "    # with one slide exploded out\n",
        "    explode = (0.15 , 0),\n",
        "    \n",
        "    # with the start angle at 90%\n",
        "    startangle = 90,\n",
        "    \n",
        "    # with the percent listed as a fraction\n",
        "    autopct = '%1.1f%%'\n",
        "    )\n",
        "\n",
        "# View the plot drop above\n",
        "plt.axis('equal')\n",
        "\n",
        "# Set labels\n",
        "plt.title(\"Twit dağılımı\")\n",
        "\n",
        "# View the plot\n",
        "plt.tight_layout()\n",
        "plt.show()"
      ],
      "execution_count": 44,
      "outputs": [
        {
          "output_type": "display_data",
          "data": {
            "image/png": "[encoded data removed]",
            "text/plain": [
              "<Figure size 432x288 with 1 Axes>"
            ]
          },
          "metadata": {
            "tags": []
          }
        }
      ]
    },
    {
      "cell_type": "markdown",
      "metadata": {
        "id": "9jzzZNbM0s4l"
      },
      "source": [
        "# **Histogram olarak gösterilmesi**"
      ]
    },
    {
      "cell_type": "code",
      "metadata": {
        "colab": {
          "base_uri": "https://localhost:8080/",
          "height": 295
        },
        "id": "nuQmax4r0nmV",
        "outputId": "9e648c74-0121-48e3-e40b-4ba2cfd82e88"
      },
      "source": [
        "\n",
        "# create histogram\n",
        "ttbill = sns.distplot(k);\n",
        "\n",
        "# set lables and titles\n",
        "ttbill.set(xlabel = 'score', ylabel = 'adet', title = \"score histogramı\")\n",
        "\n",
        "# take out the right and upper borders\n",
        "sns.despine()"
      ],
      "execution_count": 45,
      "outputs": [
        {
          "output_type": "display_data",
          "data": {
            "image/png": "[encoded data removed]",
            "text/plain": [
              "<Figure size 432x288 with 1 Axes>"
            ]
          },
          "metadata": {
            "tags": [],
            "needs_background": "light"
          }
        }
      ]
    },
    {
      "cell_type": "markdown",
      "metadata": {
        "id": "PUeo4N5-fuHa"
      },
      "source": [
        "# TWEETLERİN SINFILANDIRILMASI "
      ]
    },
    {
      "cell_type": "markdown",
      "metadata": {
        "id": "mj0EOotZf9rD"
      },
      "source": [
        "Turk-bert modellerinin yğklenmesi"
      ]
    },
    {
      "cell_type": "code",
      "metadata": {
        "colab": {
          "base_uri": "https://localhost:8080/"
        },
        "id": "assTarL-fij1",
        "outputId": "d8b25a0a-466a-4494-873c-7d3d35914111"
      },
      "source": [
        "Tweet"
      ],
      "execution_count": 46,
      "outputs": [
        {
          "output_type": "execute_result",
          "data": {
            "text/plain": [
              "['fazla hırpalanmadan kapatalım bu defteri',\n",
              " 'Farazi amp Kayra  Mertel Kasetçilik gece gece bi klibi izleyip duygulandık',\n",
              " 'O dur o anladın sen onu SendenNefretEdiyoruz',\n",
              " 'Hayırlı uğurlu olsun  ',\n",
              " 'Basket faul ya mükemmelsiniz',\n",
              " 'Larkin yeterki istesin evden atar basketi',\n",
              " ' da faul aldı Anadolu Efes mükemmel',\n",
              " 'ben hayatın sillesini yemiş ve üzerine depiklerle yere düştükten sonra hayat tarafından yerde tekmelenmiş bir insanım',\n",
              " 'hayatı şikayet ediyorum',\n",
              " 'Cv',\n",
              " 'penaltılar bitmeyecek sandım UELfinal',\n",
              " 'bu gecenin sorumlusu ben miyim',\n",
              " 'Abi hiç gülünecek bir durum yok tüm Türkiye izliyor gülebiliyor',\n",
              " 'Biz ne izliyoz abi ooo',\n",
              " 'Soru soramayacaklarsa bu gazeteciler niye çıktı',\n",
              " 'adam konuşuyor ama konuşmanın arkasında durmuyor',\n",
              " 'açtık habertürkü de bu adam ne anlatıyor böyle yine kendilerini övme falan iş dönüp dolaşıp işin başı israil demeseler bari',\n",
              " 'emoji dnm ',\n",
              " 'Konuyla ne alakası var',\n",
              " 'Bi mevzuya da bakmayın kardeşim gidin başka işle uğraşın lan',\n",
              " 'Ayrıca bu sektörde türeyen Hintlilerin amk karşılaşırsam hiç acımam',\n",
              " 'Its programmed jajajjaj link  ',\n",
              " 'karanfilsin tarçınsın neden böyle hırçınsın',\n",
              " 'LINK  olsun benim kumarım biter',\n",
              " 'Bugün sıra altcoinlere gelmicek galiba',\n",
              " 'Benim beyin firar',\n",
              " 'O kadar çok öğrenmem gereken şey varki bu yükün altında kalmam umarım',\n",
              " 'DogecoinToTheMoon',\n",
              " 'elon musk twit atsın diye bekliyorum x yapar',\n",
              " 'berkkberkkberkk SonGulyabani jeandpardaillan Ahmet Hamdi Tanpınar ',\n",
              " 'adama lisans verdik amk kullansın diye bi süre ulan git bari kendine crack falan yap sen nasıl piyasanın ekmeğini yiyorsun hayret',\n",
              " 'bu kapatmalar yüzünden etkilenmeyen yoktur',\n",
              " 'bu da bi teşekkür etme yöntemi galiba ya da kullanılmışlık hissi  ',\n",
              " 'merveseell bangırr bangırr',\n",
              " 'dağa tırmanıyoruz sanki yorulan bıraksın sxp',\n",
              " 'Ayı aydınlattık  ',\n",
              " 'Oksijeni içimde hissettim şuan',\n",
              " 'cointoloji bizde kestiriyoruz yükseleceğini allaha şükür sen bi sonuça vardın sandım',\n",
              " 'uyuyakalmışım uyandık',\n",
              " 'cointoloji sonuç olarak kardeşim',\n",
              " 'sxp kardeşim yavaş yavaş böyle ataklar bizi korkutur',\n",
              " 'Kafamı bir araya getiremiyorum',\n",
              " 'Kardeşim helikopter',\n",
              " 'Samilkrt wowage Ulan bi tatil yapsam dert tasa kalmaz',\n",
              " 'I just published FİNANSTA BLOCKCHAIN TEKNOLOJİSİ  ',\n",
              " 'Sabah sabah kırmızı oda dizisinin sesini duyarak uyandım çıldırıcam',\n",
              " 'Saat beşte aklımdan çıkmayan am sorri ha    ',\n",
              " 'bugün trendyolda işe girmedim',\n",
              " 'Adamın sesi gelmiyor amk',\n",
              " 'Im not normal']"
            ]
          },
          "metadata": {
            "tags": []
          },
          "execution_count": 46
        }
      ]
    },
    {
      "cell_type": "code",
      "metadata": {
        "id": "zsFbUn_IgQEx"
      },
      "source": [
        "tokenizer= AutoTokenizer.from_pretrained(\"savasy/bert-turkish-text-classification\")\n",
        "model= AutoModelForSequenceClassification.from_pretrained(\"savasy/bert-turkish-text-classification\")"
      ],
      "execution_count": 47,
      "outputs": []
    },
    {
      "cell_type": "code",
      "metadata": {
        "id": "CVTjZcIogX6Y"
      },
      "source": [
        "sınıf=pipeline(\"text-classification\", model=model, tokenizer=tokenizer)"
      ],
      "execution_count": 48,
      "outputs": []
    },
    {
      "cell_type": "code",
      "metadata": {
        "colab": {
          "base_uri": "https://localhost:8080/",
          "height": 35
        },
        "id": "BotjtbjZgmSk",
        "outputId": "4666d6ff-cc22-40a3-90c1-b6fa12959947"
      },
      "source": [
        "Tweet[25]"
      ],
      "execution_count": 51,
      "outputs": [
        {
          "output_type": "execute_result",
          "data": {
            "application/vnd.google.colaboratory.intrinsic+json": {
              "type": "string"
            },
            "text/plain": [
              "'Benim beyin firar'"
            ]
          },
          "metadata": {
            "tags": []
          },
          "execution_count": 51
        }
      ]
    },
    {
      "cell_type": "code",
      "metadata": {
        "colab": {
          "base_uri": "https://localhost:8080/"
        },
        "id": "wk_zcZEugppp",
        "outputId": "b5611a07-2db2-4991-fb5e-5b838da0c7c6"
      },
      "source": [
        "a = sınıf(Tweet[25])\n",
        "a"
      ],
      "execution_count": 52,
      "outputs": [
        {
          "output_type": "execute_result",
          "data": {
            "text/plain": [
              "[{'label': 'technology', 'score': 0.821212887763977}]"
            ]
          },
          "metadata": {
            "tags": []
          },
          "execution_count": 52
        }
      ]
    },
    {
      "cell_type": "code",
      "metadata": {
        "id": "BXe-xFYggKw7"
      },
      "source": [
        "code_to_label={\n",
        " 'world': 'dunya ',\n",
        " 'economy': 'ekonomi ',\n",
        " 'culture': 'kultur ',\n",
        " 'health': 'saglik ',\n",
        " 'politics': 'siyaset ',\n",
        " 'sport': 'spor ',\n",
        " 'technology': 'teknoloji '}"
      ],
      "execution_count": 53,
      "outputs": []
    },
    {
      "cell_type": "code",
      "metadata": {
        "colab": {
          "base_uri": "https://localhost:8080/"
        },
        "id": "Ll40RI1fiN5W",
        "outputId": "810e7a78-d988-40a5-922b-3667be3b38c4"
      },
      "source": [
        "a = sınıf(Tweet[20])\n",
        "#d = code_to_label[a[0]['label']]\n",
        "a\n",
        "#d"
      ],
      "execution_count": 54,
      "outputs": [
        {
          "output_type": "execute_result",
          "data": {
            "text/plain": [
              "[{'label': 'world', 'score': 0.379748672246933}]"
            ]
          },
          "metadata": {
            "tags": []
          },
          "execution_count": 54
        }
      ]
    },
    {
      "cell_type": "code",
      "metadata": {
        "id": "7SEkl4Hchnod"
      },
      "source": [
        "kategori= list()\n",
        "for i in range(orders):\n",
        "                    c= sınıf(Tweet[i])\n",
        "                    a = c[0]['label']\n",
        "                    a = code_to_label[c[0]['label']]\n",
        "                    #d =np.append(a)\n",
        "                    kategori.append(a)"
      ],
      "execution_count": 55,
      "outputs": []
    },
    {
      "cell_type": "code",
      "metadata": {
        "colab": {
          "base_uri": "https://localhost:8080/"
        },
        "id": "NrHPE6QigxwZ",
        "outputId": "2ac74ff5-8a75-4c6c-df61-83a5edc4363f"
      },
      "source": [
        "kategori"
      ],
      "execution_count": 56,
      "outputs": [
        {
          "output_type": "execute_result",
          "data": {
            "text/plain": [
              "['kultur ',\n",
              " 'kultur ',\n",
              " 'teknoloji ',\n",
              " 'teknoloji ',\n",
              " 'spor ',\n",
              " 'teknoloji ',\n",
              " 'spor ',\n",
              " 'kultur ',\n",
              " 'kultur ',\n",
              " 'teknoloji ',\n",
              " 'spor ',\n",
              " 'kultur ',\n",
              " 'teknoloji ',\n",
              " 'teknoloji ',\n",
              " 'siyaset ',\n",
              " 'kultur ',\n",
              " 'siyaset ',\n",
              " 'teknoloji ',\n",
              " 'teknoloji ',\n",
              " 'teknoloji ',\n",
              " 'dunya ',\n",
              " 'teknoloji ',\n",
              " 'saglik ',\n",
              " 'teknoloji ',\n",
              " 'teknoloji ',\n",
              " 'teknoloji ',\n",
              " 'teknoloji ',\n",
              " 'teknoloji ',\n",
              " 'teknoloji ',\n",
              " 'kultur ',\n",
              " 'teknoloji ',\n",
              " 'teknoloji ',\n",
              " 'kultur ',\n",
              " 'teknoloji ',\n",
              " 'kultur ',\n",
              " 'teknoloji ',\n",
              " 'saglik ',\n",
              " 'teknoloji ',\n",
              " 'kultur ',\n",
              " 'teknoloji ',\n",
              " 'siyaset ',\n",
              " 'teknoloji ',\n",
              " 'teknoloji ',\n",
              " 'teknoloji ',\n",
              " 'teknoloji ',\n",
              " 'kultur ',\n",
              " 'kultur ',\n",
              " 'ekonomi ',\n",
              " 'teknoloji ',\n",
              " 'siyaset ']"
            ]
          },
          "metadata": {
            "tags": []
          },
          "execution_count": 56
        }
      ]
    },
    {
      "cell_type": "code",
      "metadata": {
        "id": "YcHfG1UkjOmf"
      },
      "source": [
        "kategori\n",
        "df_Tweetler[\"sınıflandırma\"]= pd.DataFrame(kategori)\n",
        "#df_Tweetler[\"Tweets_duygu\"]=df_Tweetler[\"Tweets\"].map(lambda x: \"\".join(d))\n"
      ],
      "execution_count": 57,
      "outputs": []
    },
    {
      "cell_type": "code",
      "metadata": {
        "colab": {
          "base_uri": "https://localhost:8080/",
          "height": 1000
        },
        "id": "r-NqmSi_jcQJ",
        "outputId": "7cf47506-e211-40a7-9220-8844daa8173d"
      },
      "source": [
        "df_Tweetler"
      ],
      "execution_count": 58,
      "outputs": [
        {
          "output_type": "execute_result",
          "data": {
            "text/html": [
              "<div>\n",
              "<style scoped>\n",
              "    .dataframe tbody tr th:only-of-type {\n",
              "        vertical-align: middle;\n",
              "    }\n",
              "\n",
              "    .dataframe tbody tr th {\n",
              "        vertical-align: top;\n",
              "    }\n",
              "\n",
              "    .dataframe thead th {\n",
              "        text-align: right;\n",
              "    }\n",
              "</style>\n",
              "<table border=\"1\" class=\"dataframe\">\n",
              "  <thead>\n",
              "    <tr style=\"text-align: right;\">\n",
              "      <th></th>\n",
              "      <th>tweet</th>\n",
              "      <th>Tweets_duygu</th>\n",
              "      <th>sınıflandırma</th>\n",
              "    </tr>\n",
              "  </thead>\n",
              "  <tbody>\n",
              "    <tr>\n",
              "      <th>0</th>\n",
              "      <td>fazla hırpalanmadan kapatalım bu defteri</td>\n",
              "      <td>negatif</td>\n",
              "      <td>kultur</td>\n",
              "    </tr>\n",
              "    <tr>\n",
              "      <th>1</th>\n",
              "      <td>Farazi amp Kayra  Mertel Kasetçilik gece gece ...</td>\n",
              "      <td>negatif</td>\n",
              "      <td>kultur</td>\n",
              "    </tr>\n",
              "    <tr>\n",
              "      <th>2</th>\n",
              "      <td>O dur o anladın sen onu SendenNefretEdiyoruz</td>\n",
              "      <td>pozitif</td>\n",
              "      <td>teknoloji</td>\n",
              "    </tr>\n",
              "    <tr>\n",
              "      <th>3</th>\n",
              "      <td>Hayırlı uğurlu olsun</td>\n",
              "      <td>pozitif</td>\n",
              "      <td>teknoloji</td>\n",
              "    </tr>\n",
              "    <tr>\n",
              "      <th>4</th>\n",
              "      <td>Basket faul ya mükemmelsiniz</td>\n",
              "      <td>pozitif</td>\n",
              "      <td>spor</td>\n",
              "    </tr>\n",
              "    <tr>\n",
              "      <th>5</th>\n",
              "      <td>Larkin yeterki istesin evden atar basketi</td>\n",
              "      <td>pozitif</td>\n",
              "      <td>teknoloji</td>\n",
              "    </tr>\n",
              "    <tr>\n",
              "      <th>6</th>\n",
              "      <td>da faul aldı Anadolu Efes mükemmel</td>\n",
              "      <td>pozitif</td>\n",
              "      <td>spor</td>\n",
              "    </tr>\n",
              "    <tr>\n",
              "      <th>7</th>\n",
              "      <td>ben hayatın sillesini yemiş ve üzerine depikle...</td>\n",
              "      <td>negatif</td>\n",
              "      <td>kultur</td>\n",
              "    </tr>\n",
              "    <tr>\n",
              "      <th>8</th>\n",
              "      <td>hayatı şikayet ediyorum</td>\n",
              "      <td>negatif</td>\n",
              "      <td>kultur</td>\n",
              "    </tr>\n",
              "    <tr>\n",
              "      <th>9</th>\n",
              "      <td>Cv</td>\n",
              "      <td>pozitif</td>\n",
              "      <td>teknoloji</td>\n",
              "    </tr>\n",
              "    <tr>\n",
              "      <th>10</th>\n",
              "      <td>penaltılar bitmeyecek sandım UELfinal</td>\n",
              "      <td>pozitif</td>\n",
              "      <td>spor</td>\n",
              "    </tr>\n",
              "    <tr>\n",
              "      <th>11</th>\n",
              "      <td>bu gecenin sorumlusu ben miyim</td>\n",
              "      <td>negatif</td>\n",
              "      <td>kultur</td>\n",
              "    </tr>\n",
              "    <tr>\n",
              "      <th>12</th>\n",
              "      <td>Abi hiç gülünecek bir durum yok tüm Türkiye iz...</td>\n",
              "      <td>pozitif</td>\n",
              "      <td>teknoloji</td>\n",
              "    </tr>\n",
              "    <tr>\n",
              "      <th>13</th>\n",
              "      <td>Biz ne izliyoz abi ooo</td>\n",
              "      <td>pozitif</td>\n",
              "      <td>teknoloji</td>\n",
              "    </tr>\n",
              "    <tr>\n",
              "      <th>14</th>\n",
              "      <td>Soru soramayacaklarsa bu gazeteciler niye çıktı</td>\n",
              "      <td>negatif</td>\n",
              "      <td>siyaset</td>\n",
              "    </tr>\n",
              "    <tr>\n",
              "      <th>15</th>\n",
              "      <td>adam konuşuyor ama konuşmanın arkasında durmuyor</td>\n",
              "      <td>negatif</td>\n",
              "      <td>kultur</td>\n",
              "    </tr>\n",
              "    <tr>\n",
              "      <th>16</th>\n",
              "      <td>açtık habertürkü de bu adam ne anlatıyor böyle...</td>\n",
              "      <td>negatif</td>\n",
              "      <td>siyaset</td>\n",
              "    </tr>\n",
              "    <tr>\n",
              "      <th>17</th>\n",
              "      <td>emoji dnm</td>\n",
              "      <td>pozitif</td>\n",
              "      <td>teknoloji</td>\n",
              "    </tr>\n",
              "    <tr>\n",
              "      <th>18</th>\n",
              "      <td>Konuyla ne alakası var</td>\n",
              "      <td>negatif</td>\n",
              "      <td>teknoloji</td>\n",
              "    </tr>\n",
              "    <tr>\n",
              "      <th>19</th>\n",
              "      <td>Bi mevzuya da bakmayın kardeşim gidin başka iş...</td>\n",
              "      <td>negatif</td>\n",
              "      <td>teknoloji</td>\n",
              "    </tr>\n",
              "    <tr>\n",
              "      <th>20</th>\n",
              "      <td>Ayrıca bu sektörde türeyen Hintlilerin amk kar...</td>\n",
              "      <td>negatif</td>\n",
              "      <td>dunya</td>\n",
              "    </tr>\n",
              "    <tr>\n",
              "      <th>21</th>\n",
              "      <td>Its programmed jajajjaj link</td>\n",
              "      <td>pozitif</td>\n",
              "      <td>teknoloji</td>\n",
              "    </tr>\n",
              "    <tr>\n",
              "      <th>22</th>\n",
              "      <td>karanfilsin tarçınsın neden böyle hırçınsın</td>\n",
              "      <td>negatif</td>\n",
              "      <td>saglik</td>\n",
              "    </tr>\n",
              "    <tr>\n",
              "      <th>23</th>\n",
              "      <td>LINK  olsun benim kumarım biter</td>\n",
              "      <td>negatif</td>\n",
              "      <td>teknoloji</td>\n",
              "    </tr>\n",
              "    <tr>\n",
              "      <th>24</th>\n",
              "      <td>Bugün sıra altcoinlere gelmicek galiba</td>\n",
              "      <td>negatif</td>\n",
              "      <td>teknoloji</td>\n",
              "    </tr>\n",
              "    <tr>\n",
              "      <th>25</th>\n",
              "      <td>Benim beyin firar</td>\n",
              "      <td>negatif</td>\n",
              "      <td>teknoloji</td>\n",
              "    </tr>\n",
              "    <tr>\n",
              "      <th>26</th>\n",
              "      <td>O kadar çok öğrenmem gereken şey varki bu yükü...</td>\n",
              "      <td>pozitif</td>\n",
              "      <td>teknoloji</td>\n",
              "    </tr>\n",
              "    <tr>\n",
              "      <th>27</th>\n",
              "      <td>DogecoinToTheMoon</td>\n",
              "      <td>pozitif</td>\n",
              "      <td>teknoloji</td>\n",
              "    </tr>\n",
              "    <tr>\n",
              "      <th>28</th>\n",
              "      <td>elon musk twit atsın diye bekliyorum x yapar</td>\n",
              "      <td>pozitif</td>\n",
              "      <td>teknoloji</td>\n",
              "    </tr>\n",
              "    <tr>\n",
              "      <th>29</th>\n",
              "      <td>berkkberkkberkk SonGulyabani jeandpardaillan A...</td>\n",
              "      <td>pozitif</td>\n",
              "      <td>kultur</td>\n",
              "    </tr>\n",
              "    <tr>\n",
              "      <th>30</th>\n",
              "      <td>adama lisans verdik amk kullansın diye bi süre...</td>\n",
              "      <td>negatif</td>\n",
              "      <td>teknoloji</td>\n",
              "    </tr>\n",
              "    <tr>\n",
              "      <th>31</th>\n",
              "      <td>bu kapatmalar yüzünden etkilenmeyen yoktur</td>\n",
              "      <td>negatif</td>\n",
              "      <td>teknoloji</td>\n",
              "    </tr>\n",
              "    <tr>\n",
              "      <th>32</th>\n",
              "      <td>bu da bi teşekkür etme yöntemi galiba ya da ku...</td>\n",
              "      <td>negatif</td>\n",
              "      <td>kultur</td>\n",
              "    </tr>\n",
              "    <tr>\n",
              "      <th>33</th>\n",
              "      <td>merveseell bangırr bangırr</td>\n",
              "      <td>pozitif</td>\n",
              "      <td>teknoloji</td>\n",
              "    </tr>\n",
              "    <tr>\n",
              "      <th>34</th>\n",
              "      <td>dağa tırmanıyoruz sanki yorulan bıraksın sxp</td>\n",
              "      <td>pozitif</td>\n",
              "      <td>kultur</td>\n",
              "    </tr>\n",
              "    <tr>\n",
              "      <th>35</th>\n",
              "      <td>Ayı aydınlattık</td>\n",
              "      <td>negatif</td>\n",
              "      <td>teknoloji</td>\n",
              "    </tr>\n",
              "    <tr>\n",
              "      <th>36</th>\n",
              "      <td>Oksijeni içimde hissettim şuan</td>\n",
              "      <td>pozitif</td>\n",
              "      <td>saglik</td>\n",
              "    </tr>\n",
              "    <tr>\n",
              "      <th>37</th>\n",
              "      <td>cointoloji bizde kestiriyoruz yükseleceğini al...</td>\n",
              "      <td>pozitif</td>\n",
              "      <td>teknoloji</td>\n",
              "    </tr>\n",
              "    <tr>\n",
              "      <th>38</th>\n",
              "      <td>uyuyakalmışım uyandık</td>\n",
              "      <td>negatif</td>\n",
              "      <td>kultur</td>\n",
              "    </tr>\n",
              "    <tr>\n",
              "      <th>39</th>\n",
              "      <td>cointoloji sonuç olarak kardeşim</td>\n",
              "      <td>pozitif</td>\n",
              "      <td>teknoloji</td>\n",
              "    </tr>\n",
              "    <tr>\n",
              "      <th>40</th>\n",
              "      <td>sxp kardeşim yavaş yavaş böyle ataklar bizi ko...</td>\n",
              "      <td>pozitif</td>\n",
              "      <td>siyaset</td>\n",
              "    </tr>\n",
              "    <tr>\n",
              "      <th>41</th>\n",
              "      <td>Kafamı bir araya getiremiyorum</td>\n",
              "      <td>negatif</td>\n",
              "      <td>teknoloji</td>\n",
              "    </tr>\n",
              "    <tr>\n",
              "      <th>42</th>\n",
              "      <td>Kardeşim helikopter</td>\n",
              "      <td>pozitif</td>\n",
              "      <td>teknoloji</td>\n",
              "    </tr>\n",
              "    <tr>\n",
              "      <th>43</th>\n",
              "      <td>Samilkrt wowage Ulan bi tatil yapsam dert tasa...</td>\n",
              "      <td>pozitif</td>\n",
              "      <td>teknoloji</td>\n",
              "    </tr>\n",
              "    <tr>\n",
              "      <th>44</th>\n",
              "      <td>I just published FİNANSTA BLOCKCHAIN TEKNOLOJİ...</td>\n",
              "      <td>pozitif</td>\n",
              "      <td>teknoloji</td>\n",
              "    </tr>\n",
              "    <tr>\n",
              "      <th>45</th>\n",
              "      <td>Sabah sabah kırmızı oda dizisinin sesini duyar...</td>\n",
              "      <td>negatif</td>\n",
              "      <td>kultur</td>\n",
              "    </tr>\n",
              "    <tr>\n",
              "      <th>46</th>\n",
              "      <td>Saat beşte aklımdan çıkmayan am sorri ha</td>\n",
              "      <td>pozitif</td>\n",
              "      <td>kultur</td>\n",
              "    </tr>\n",
              "    <tr>\n",
              "      <th>47</th>\n",
              "      <td>bugün trendyolda işe girmedim</td>\n",
              "      <td>negatif</td>\n",
              "      <td>ekonomi</td>\n",
              "    </tr>\n",
              "    <tr>\n",
              "      <th>48</th>\n",
              "      <td>Adamın sesi gelmiyor amk</td>\n",
              "      <td>pozitif</td>\n",
              "      <td>teknoloji</td>\n",
              "    </tr>\n",
              "    <tr>\n",
              "      <th>49</th>\n",
              "      <td>Im not normal</td>\n",
              "      <td>negatif</td>\n",
              "      <td>siyaset</td>\n",
              "    </tr>\n",
              "  </tbody>\n",
              "</table>\n",
              "</div>"
            ],
            "text/plain": [
              "                                                tweet  ... sınıflandırma\n",
              "0            fazla hırpalanmadan kapatalım bu defteri  ...       kultur \n",
              "1   Farazi amp Kayra  Mertel Kasetçilik gece gece ...  ...       kultur \n",
              "2        O dur o anladın sen onu SendenNefretEdiyoruz  ...    teknoloji \n",
              "3                              Hayırlı uğurlu olsun    ...    teknoloji \n",
              "4                        Basket faul ya mükemmelsiniz  ...         spor \n",
              "5           Larkin yeterki istesin evden atar basketi  ...    teknoloji \n",
              "6                  da faul aldı Anadolu Efes mükemmel  ...         spor \n",
              "7   ben hayatın sillesini yemiş ve üzerine depikle...  ...       kultur \n",
              "8                             hayatı şikayet ediyorum  ...       kultur \n",
              "9                                                  Cv  ...    teknoloji \n",
              "10              penaltılar bitmeyecek sandım UELfinal  ...         spor \n",
              "11                     bu gecenin sorumlusu ben miyim  ...       kultur \n",
              "12  Abi hiç gülünecek bir durum yok tüm Türkiye iz...  ...    teknoloji \n",
              "13                             Biz ne izliyoz abi ooo  ...    teknoloji \n",
              "14    Soru soramayacaklarsa bu gazeteciler niye çıktı  ...      siyaset \n",
              "15   adam konuşuyor ama konuşmanın arkasında durmuyor  ...       kultur \n",
              "16  açtık habertürkü de bu adam ne anlatıyor böyle...  ...      siyaset \n",
              "17                                         emoji dnm   ...    teknoloji \n",
              "18                             Konuyla ne alakası var  ...    teknoloji \n",
              "19  Bi mevzuya da bakmayın kardeşim gidin başka iş...  ...    teknoloji \n",
              "20  Ayrıca bu sektörde türeyen Hintlilerin amk kar...  ...        dunya \n",
              "21                     Its programmed jajajjaj link    ...    teknoloji \n",
              "22        karanfilsin tarçınsın neden böyle hırçınsın  ...       saglik \n",
              "23                    LINK  olsun benim kumarım biter  ...    teknoloji \n",
              "24             Bugün sıra altcoinlere gelmicek galiba  ...    teknoloji \n",
              "25                                  Benim beyin firar  ...    teknoloji \n",
              "26  O kadar çok öğrenmem gereken şey varki bu yükü...  ...    teknoloji \n",
              "27                                  DogecoinToTheMoon  ...    teknoloji \n",
              "28       elon musk twit atsın diye bekliyorum x yapar  ...    teknoloji \n",
              "29  berkkberkkberkk SonGulyabani jeandpardaillan A...  ...       kultur \n",
              "30  adama lisans verdik amk kullansın diye bi süre...  ...    teknoloji \n",
              "31         bu kapatmalar yüzünden etkilenmeyen yoktur  ...    teknoloji \n",
              "32  bu da bi teşekkür etme yöntemi galiba ya da ku...  ...       kultur \n",
              "33                         merveseell bangırr bangırr  ...    teknoloji \n",
              "34       dağa tırmanıyoruz sanki yorulan bıraksın sxp  ...       kultur \n",
              "35                                  Ayı aydınlattık    ...    teknoloji \n",
              "36                     Oksijeni içimde hissettim şuan  ...       saglik \n",
              "37  cointoloji bizde kestiriyoruz yükseleceğini al...  ...    teknoloji \n",
              "38                              uyuyakalmışım uyandık  ...       kultur \n",
              "39                   cointoloji sonuç olarak kardeşim  ...    teknoloji \n",
              "40  sxp kardeşim yavaş yavaş böyle ataklar bizi ko...  ...      siyaset \n",
              "41                     Kafamı bir araya getiremiyorum  ...    teknoloji \n",
              "42                                Kardeşim helikopter  ...    teknoloji \n",
              "43  Samilkrt wowage Ulan bi tatil yapsam dert tasa...  ...    teknoloji \n",
              "44  I just published FİNANSTA BLOCKCHAIN TEKNOLOJİ...  ...    teknoloji \n",
              "45  Sabah sabah kırmızı oda dizisinin sesini duyar...  ...       kultur \n",
              "46       Saat beşte aklımdan çıkmayan am sorri ha      ...       kultur \n",
              "47                      bugün trendyolda işe girmedim  ...      ekonomi \n",
              "48                           Adamın sesi gelmiyor amk  ...    teknoloji \n",
              "49                                      Im not normal  ...      siyaset \n",
              "\n",
              "[50 rows x 3 columns]"
            ]
          },
          "metadata": {
            "tags": []
          },
          "execution_count": 58
        }
      ]
    },
    {
      "cell_type": "code",
      "metadata": {
        "colab": {
          "base_uri": "https://localhost:8080/",
          "height": 279
        },
        "id": "7nDQMG9IjfUQ",
        "outputId": "4f403dae-c3df-4919-cdc7-f175b4410e52"
      },
      "source": [
        "sns.countplot(df_Tweetler.sınıflandırma)\n",
        "plt.xlabel('inceleme');"
      ],
      "execution_count": 59,
      "outputs": [
        {
          "output_type": "display_data",
          "data": {
            "image/png": "[encoded data removed]",
            "text/plain": [
              "<Figure size 432x288 with 1 Axes>"
            ]
          },
          "metadata": {
            "tags": [],
            "needs_background": "light"
          }
        }
      ]
    },
    {
      "cell_type": "code",
      "metadata": {
        "colab": {
          "base_uri": "https://localhost:8080/"
        },
        "id": "wboIfEZGpmqN",
        "outputId": "623a13b4-335e-49cd-d6ea-630850f13fbc"
      },
      "source": [
        "df_Tweetler.info()"
      ],
      "execution_count": 60,
      "outputs": [
        {
          "output_type": "stream",
          "text": [
            "<class 'pandas.core.frame.DataFrame'>\n",
            "RangeIndex: 50 entries, 0 to 49\n",
            "Data columns (total 3 columns):\n",
            " #   Column         Non-Null Count  Dtype \n",
            "---  ------         --------------  ----- \n",
            " 0   tweet          50 non-null     object\n",
            " 1   Tweets_duygu   50 non-null     object\n",
            " 2   sınıflandırma  50 non-null     object\n",
            "dtypes: object(3)\n",
            "memory usage: 1.3+ KB\n"
          ],
          "name": "stdout"
        }
      ]
    },
    {
      "cell_type": "code",
      "metadata": {
        "colab": {
          "base_uri": "https://localhost:8080/"
        },
        "id": "6H68G3mXqL7e",
        "outputId": "3485ad24-54ce-44e9-b49b-5dc4a7a61089"
      },
      "source": [
        "sonuciki = df_Tweetler[\"sınıflandırma\"].value_counts()\n",
        "sonuciki"
      ],
      "execution_count": 61,
      "outputs": [
        {
          "output_type": "execute_result",
          "data": {
            "text/plain": [
              "teknoloji     27\n",
              "kultur        12\n",
              "siyaset        4\n",
              "spor           3\n",
              "saglik         2\n",
              "dunya          1\n",
              "ekonomi        1\n",
              "Name: sınıflandırma, dtype: int64"
            ]
          },
          "metadata": {
            "tags": []
          },
          "execution_count": 61
        }
      ]
    },
    {
      "cell_type": "code",
      "metadata": {
        "colab": {
          "base_uri": "https://localhost:8080/",
          "height": 374
        },
        "id": "NSS5KjR7pIfl",
        "outputId": "b98a6353-8b17-4add-d76e-4148a44f6336"
      },
      "source": [
        "pie, ax = plt.subplots(figsize=[10,6])\n",
        "labels = sonuciki.keys()\n",
        "plt.pie(x=sonuciki, autopct=\"%.1f%%\", explode=None, labels=labels, pctdistance=0.5)\n",
        "plt.title(\"Delivery Tips by type\", fontsize=14);"
      ],
      "execution_count": 62,
      "outputs": [
        {
          "output_type": "display_data",
          "data": {
            "image/png": "[encoded data removed]",
            "text/plain": [
              "<Figure size 720x432 with 1 Axes>"
            ]
          },
          "metadata": {
            "tags": []
          }
        }
      ]
    },
    {
      "cell_type": "code",
      "metadata": {
        "colab": {
          "base_uri": "https://localhost:8080/",
          "height": 1000
        },
        "id": "2Jz0YIUOsG6c",
        "outputId": "b15373c7-dc59-4371-a97a-a35a75c7493f"
      },
      "source": [
        "df_Tweetler"
      ],
      "execution_count": 63,
      "outputs": [
        {
          "output_type": "execute_result",
          "data": {
            "text/html": [
              "<div>\n",
              "<style scoped>\n",
              "    .dataframe tbody tr th:only-of-type {\n",
              "        vertical-align: middle;\n",
              "    }\n",
              "\n",
              "    .dataframe tbody tr th {\n",
              "        vertical-align: top;\n",
              "    }\n",
              "\n",
              "    .dataframe thead th {\n",
              "        text-align: right;\n",
              "    }\n",
              "</style>\n",
              "<table border=\"1\" class=\"dataframe\">\n",
              "  <thead>\n",
              "    <tr style=\"text-align: right;\">\n",
              "      <th></th>\n",
              "      <th>tweet</th>\n",
              "      <th>Tweets_duygu</th>\n",
              "      <th>sınıflandırma</th>\n",
              "    </tr>\n",
              "  </thead>\n",
              "  <tbody>\n",
              "    <tr>\n",
              "      <th>0</th>\n",
              "      <td>fazla hırpalanmadan kapatalım bu defteri</td>\n",
              "      <td>negatif</td>\n",
              "      <td>kultur</td>\n",
              "    </tr>\n",
              "    <tr>\n",
              "      <th>1</th>\n",
              "      <td>Farazi amp Kayra  Mertel Kasetçilik gece gece ...</td>\n",
              "      <td>negatif</td>\n",
              "      <td>kultur</td>\n",
              "    </tr>\n",
              "    <tr>\n",
              "      <th>2</th>\n",
              "      <td>O dur o anladın sen onu SendenNefretEdiyoruz</td>\n",
              "      <td>pozitif</td>\n",
              "      <td>teknoloji</td>\n",
              "    </tr>\n",
              "    <tr>\n",
              "      <th>3</th>\n",
              "      <td>Hayırlı uğurlu olsun</td>\n",
              "      <td>pozitif</td>\n",
              "      <td>teknoloji</td>\n",
              "    </tr>\n",
              "    <tr>\n",
              "      <th>4</th>\n",
              "      <td>Basket faul ya mükemmelsiniz</td>\n",
              "      <td>pozitif</td>\n",
              "      <td>spor</td>\n",
              "    </tr>\n",
              "    <tr>\n",
              "      <th>5</th>\n",
              "      <td>Larkin yeterki istesin evden atar basketi</td>\n",
              "      <td>pozitif</td>\n",
              "      <td>teknoloji</td>\n",
              "    </tr>\n",
              "    <tr>\n",
              "      <th>6</th>\n",
              "      <td>da faul aldı Anadolu Efes mükemmel</td>\n",
              "      <td>pozitif</td>\n",
              "      <td>spor</td>\n",
              "    </tr>\n",
              "    <tr>\n",
              "      <th>7</th>\n",
              "      <td>ben hayatın sillesini yemiş ve üzerine depikle...</td>\n",
              "      <td>negatif</td>\n",
              "      <td>kultur</td>\n",
              "    </tr>\n",
              "    <tr>\n",
              "      <th>8</th>\n",
              "      <td>hayatı şikayet ediyorum</td>\n",
              "      <td>negatif</td>\n",
              "      <td>kultur</td>\n",
              "    </tr>\n",
              "    <tr>\n",
              "      <th>9</th>\n",
              "      <td>Cv</td>\n",
              "      <td>pozitif</td>\n",
              "      <td>teknoloji</td>\n",
              "    </tr>\n",
              "    <tr>\n",
              "      <th>10</th>\n",
              "      <td>penaltılar bitmeyecek sandım UELfinal</td>\n",
              "      <td>pozitif</td>\n",
              "      <td>spor</td>\n",
              "    </tr>\n",
              "    <tr>\n",
              "      <th>11</th>\n",
              "      <td>bu gecenin sorumlusu ben miyim</td>\n",
              "      <td>negatif</td>\n",
              "      <td>kultur</td>\n",
              "    </tr>\n",
              "    <tr>\n",
              "      <th>12</th>\n",
              "      <td>Abi hiç gülünecek bir durum yok tüm Türkiye iz...</td>\n",
              "      <td>pozitif</td>\n",
              "      <td>teknoloji</td>\n",
              "    </tr>\n",
              "    <tr>\n",
              "      <th>13</th>\n",
              "      <td>Biz ne izliyoz abi ooo</td>\n",
              "      <td>pozitif</td>\n",
              "      <td>teknoloji</td>\n",
              "    </tr>\n",
              "    <tr>\n",
              "      <th>14</th>\n",
              "      <td>Soru soramayacaklarsa bu gazeteciler niye çıktı</td>\n",
              "      <td>negatif</td>\n",
              "      <td>siyaset</td>\n",
              "    </tr>\n",
              "    <tr>\n",
              "      <th>15</th>\n",
              "      <td>adam konuşuyor ama konuşmanın arkasında durmuyor</td>\n",
              "      <td>negatif</td>\n",
              "      <td>kultur</td>\n",
              "    </tr>\n",
              "    <tr>\n",
              "      <th>16</th>\n",
              "      <td>açtık habertürkü de bu adam ne anlatıyor böyle...</td>\n",
              "      <td>negatif</td>\n",
              "      <td>siyaset</td>\n",
              "    </tr>\n",
              "    <tr>\n",
              "      <th>17</th>\n",
              "      <td>emoji dnm</td>\n",
              "      <td>pozitif</td>\n",
              "      <td>teknoloji</td>\n",
              "    </tr>\n",
              "    <tr>\n",
              "      <th>18</th>\n",
              "      <td>Konuyla ne alakası var</td>\n",
              "      <td>negatif</td>\n",
              "      <td>teknoloji</td>\n",
              "    </tr>\n",
              "    <tr>\n",
              "      <th>19</th>\n",
              "      <td>Bi mevzuya da bakmayın kardeşim gidin başka iş...</td>\n",
              "      <td>negatif</td>\n",
              "      <td>teknoloji</td>\n",
              "    </tr>\n",
              "    <tr>\n",
              "      <th>20</th>\n",
              "      <td>Ayrıca bu sektörde türeyen Hintlilerin amk kar...</td>\n",
              "      <td>negatif</td>\n",
              "      <td>dunya</td>\n",
              "    </tr>\n",
              "    <tr>\n",
              "      <th>21</th>\n",
              "      <td>Its programmed jajajjaj link</td>\n",
              "      <td>pozitif</td>\n",
              "      <td>teknoloji</td>\n",
              "    </tr>\n",
              "    <tr>\n",
              "      <th>22</th>\n",
              "      <td>karanfilsin tarçınsın neden böyle hırçınsın</td>\n",
              "      <td>negatif</td>\n",
              "      <td>saglik</td>\n",
              "    </tr>\n",
              "    <tr>\n",
              "      <th>23</th>\n",
              "      <td>LINK  olsun benim kumarım biter</td>\n",
              "      <td>negatif</td>\n",
              "      <td>teknoloji</td>\n",
              "    </tr>\n",
              "    <tr>\n",
              "      <th>24</th>\n",
              "      <td>Bugün sıra altcoinlere gelmicek galiba</td>\n",
              "      <td>negatif</td>\n",
              "      <td>teknoloji</td>\n",
              "    </tr>\n",
              "    <tr>\n",
              "      <th>25</th>\n",
              "      <td>Benim beyin firar</td>\n",
              "      <td>negatif</td>\n",
              "      <td>teknoloji</td>\n",
              "    </tr>\n",
              "    <tr>\n",
              "      <th>26</th>\n",
              "      <td>O kadar çok öğrenmem gereken şey varki bu yükü...</td>\n",
              "      <td>pozitif</td>\n",
              "      <td>teknoloji</td>\n",
              "    </tr>\n",
              "    <tr>\n",
              "      <th>27</th>\n",
              "      <td>DogecoinToTheMoon</td>\n",
              "      <td>pozitif</td>\n",
              "      <td>teknoloji</td>\n",
              "    </tr>\n",
              "    <tr>\n",
              "      <th>28</th>\n",
              "      <td>elon musk twit atsın diye bekliyorum x yapar</td>\n",
              "      <td>pozitif</td>\n",
              "      <td>teknoloji</td>\n",
              "    </tr>\n",
              "    <tr>\n",
              "      <th>29</th>\n",
              "      <td>berkkberkkberkk SonGulyabani jeandpardaillan A...</td>\n",
              "      <td>pozitif</td>\n",
              "      <td>kultur</td>\n",
              "    </tr>\n",
              "    <tr>\n",
              "      <th>30</th>\n",
              "      <td>adama lisans verdik amk kullansın diye bi süre...</td>\n",
              "      <td>negatif</td>\n",
              "      <td>teknoloji</td>\n",
              "    </tr>\n",
              "    <tr>\n",
              "      <th>31</th>\n",
              "      <td>bu kapatmalar yüzünden etkilenmeyen yoktur</td>\n",
              "      <td>negatif</td>\n",
              "      <td>teknoloji</td>\n",
              "    </tr>\n",
              "    <tr>\n",
              "      <th>32</th>\n",
              "      <td>bu da bi teşekkür etme yöntemi galiba ya da ku...</td>\n",
              "      <td>negatif</td>\n",
              "      <td>kultur</td>\n",
              "    </tr>\n",
              "    <tr>\n",
              "      <th>33</th>\n",
              "      <td>merveseell bangırr bangırr</td>\n",
              "      <td>pozitif</td>\n",
              "      <td>teknoloji</td>\n",
              "    </tr>\n",
              "    <tr>\n",
              "      <th>34</th>\n",
              "      <td>dağa tırmanıyoruz sanki yorulan bıraksın sxp</td>\n",
              "      <td>pozitif</td>\n",
              "      <td>kultur</td>\n",
              "    </tr>\n",
              "    <tr>\n",
              "      <th>35</th>\n",
              "      <td>Ayı aydınlattık</td>\n",
              "      <td>negatif</td>\n",
              "      <td>teknoloji</td>\n",
              "    </tr>\n",
              "    <tr>\n",
              "      <th>36</th>\n",
              "      <td>Oksijeni içimde hissettim şuan</td>\n",
              "      <td>pozitif</td>\n",
              "      <td>saglik</td>\n",
              "    </tr>\n",
              "    <tr>\n",
              "      <th>37</th>\n",
              "      <td>cointoloji bizde kestiriyoruz yükseleceğini al...</td>\n",
              "      <td>pozitif</td>\n",
              "      <td>teknoloji</td>\n",
              "    </tr>\n",
              "    <tr>\n",
              "      <th>38</th>\n",
              "      <td>uyuyakalmışım uyandık</td>\n",
              "      <td>negatif</td>\n",
              "      <td>kultur</td>\n",
              "    </tr>\n",
              "    <tr>\n",
              "      <th>39</th>\n",
              "      <td>cointoloji sonuç olarak kardeşim</td>\n",
              "      <td>pozitif</td>\n",
              "      <td>teknoloji</td>\n",
              "    </tr>\n",
              "    <tr>\n",
              "      <th>40</th>\n",
              "      <td>sxp kardeşim yavaş yavaş böyle ataklar bizi ko...</td>\n",
              "      <td>pozitif</td>\n",
              "      <td>siyaset</td>\n",
              "    </tr>\n",
              "    <tr>\n",
              "      <th>41</th>\n",
              "      <td>Kafamı bir araya getiremiyorum</td>\n",
              "      <td>negatif</td>\n",
              "      <td>teknoloji</td>\n",
              "    </tr>\n",
              "    <tr>\n",
              "      <th>42</th>\n",
              "      <td>Kardeşim helikopter</td>\n",
              "      <td>pozitif</td>\n",
              "      <td>teknoloji</td>\n",
              "    </tr>\n",
              "    <tr>\n",
              "      <th>43</th>\n",
              "      <td>Samilkrt wowage Ulan bi tatil yapsam dert tasa...</td>\n",
              "      <td>pozitif</td>\n",
              "      <td>teknoloji</td>\n",
              "    </tr>\n",
              "    <tr>\n",
              "      <th>44</th>\n",
              "      <td>I just published FİNANSTA BLOCKCHAIN TEKNOLOJİ...</td>\n",
              "      <td>pozitif</td>\n",
              "      <td>teknoloji</td>\n",
              "    </tr>\n",
              "    <tr>\n",
              "      <th>45</th>\n",
              "      <td>Sabah sabah kırmızı oda dizisinin sesini duyar...</td>\n",
              "      <td>negatif</td>\n",
              "      <td>kultur</td>\n",
              "    </tr>\n",
              "    <tr>\n",
              "      <th>46</th>\n",
              "      <td>Saat beşte aklımdan çıkmayan am sorri ha</td>\n",
              "      <td>pozitif</td>\n",
              "      <td>kultur</td>\n",
              "    </tr>\n",
              "    <tr>\n",
              "      <th>47</th>\n",
              "      <td>bugün trendyolda işe girmedim</td>\n",
              "      <td>negatif</td>\n",
              "      <td>ekonomi</td>\n",
              "    </tr>\n",
              "    <tr>\n",
              "      <th>48</th>\n",
              "      <td>Adamın sesi gelmiyor amk</td>\n",
              "      <td>pozitif</td>\n",
              "      <td>teknoloji</td>\n",
              "    </tr>\n",
              "    <tr>\n",
              "      <th>49</th>\n",
              "      <td>Im not normal</td>\n",
              "      <td>negatif</td>\n",
              "      <td>siyaset</td>\n",
              "    </tr>\n",
              "  </tbody>\n",
              "</table>\n",
              "</div>"
            ],
            "text/plain": [
              "                                                tweet  ... sınıflandırma\n",
              "0            fazla hırpalanmadan kapatalım bu defteri  ...       kultur \n",
              "1   Farazi amp Kayra  Mertel Kasetçilik gece gece ...  ...       kultur \n",
              "2        O dur o anladın sen onu SendenNefretEdiyoruz  ...    teknoloji \n",
              "3                              Hayırlı uğurlu olsun    ...    teknoloji \n",
              "4                        Basket faul ya mükemmelsiniz  ...         spor \n",
              "5           Larkin yeterki istesin evden atar basketi  ...    teknoloji \n",
              "6                  da faul aldı Anadolu Efes mükemmel  ...         spor \n",
              "7   ben hayatın sillesini yemiş ve üzerine depikle...  ...       kultur \n",
              "8                             hayatı şikayet ediyorum  ...       kultur \n",
              "9                                                  Cv  ...    teknoloji \n",
              "10              penaltılar bitmeyecek sandım UELfinal  ...         spor \n",
              "11                     bu gecenin sorumlusu ben miyim  ...       kultur \n",
              "12  Abi hiç gülünecek bir durum yok tüm Türkiye iz...  ...    teknoloji \n",
              "13                             Biz ne izliyoz abi ooo  ...    teknoloji \n",
              "14    Soru soramayacaklarsa bu gazeteciler niye çıktı  ...      siyaset \n",
              "15   adam konuşuyor ama konuşmanın arkasında durmuyor  ...       kultur \n",
              "16  açtık habertürkü de bu adam ne anlatıyor böyle...  ...      siyaset \n",
              "17                                         emoji dnm   ...    teknoloji \n",
              "18                             Konuyla ne alakası var  ...    teknoloji \n",
              "19  Bi mevzuya da bakmayın kardeşim gidin başka iş...  ...    teknoloji \n",
              "20  Ayrıca bu sektörde türeyen Hintlilerin amk kar...  ...        dunya \n",
              "21                     Its programmed jajajjaj link    ...    teknoloji \n",
              "22        karanfilsin tarçınsın neden böyle hırçınsın  ...       saglik \n",
              "23                    LINK  olsun benim kumarım biter  ...    teknoloji \n",
              "24             Bugün sıra altcoinlere gelmicek galiba  ...    teknoloji \n",
              "25                                  Benim beyin firar  ...    teknoloji \n",
              "26  O kadar çok öğrenmem gereken şey varki bu yükü...  ...    teknoloji \n",
              "27                                  DogecoinToTheMoon  ...    teknoloji \n",
              "28       elon musk twit atsın diye bekliyorum x yapar  ...    teknoloji \n",
              "29  berkkberkkberkk SonGulyabani jeandpardaillan A...  ...       kultur \n",
              "30  adama lisans verdik amk kullansın diye bi süre...  ...    teknoloji \n",
              "31         bu kapatmalar yüzünden etkilenmeyen yoktur  ...    teknoloji \n",
              "32  bu da bi teşekkür etme yöntemi galiba ya da ku...  ...       kultur \n",
              "33                         merveseell bangırr bangırr  ...    teknoloji \n",
              "34       dağa tırmanıyoruz sanki yorulan bıraksın sxp  ...       kultur \n",
              "35                                  Ayı aydınlattık    ...    teknoloji \n",
              "36                     Oksijeni içimde hissettim şuan  ...       saglik \n",
              "37  cointoloji bizde kestiriyoruz yükseleceğini al...  ...    teknoloji \n",
              "38                              uyuyakalmışım uyandık  ...       kultur \n",
              "39                   cointoloji sonuç olarak kardeşim  ...    teknoloji \n",
              "40  sxp kardeşim yavaş yavaş böyle ataklar bizi ko...  ...      siyaset \n",
              "41                     Kafamı bir araya getiremiyorum  ...    teknoloji \n",
              "42                                Kardeşim helikopter  ...    teknoloji \n",
              "43  Samilkrt wowage Ulan bi tatil yapsam dert tasa...  ...    teknoloji \n",
              "44  I just published FİNANSTA BLOCKCHAIN TEKNOLOJİ...  ...    teknoloji \n",
              "45  Sabah sabah kırmızı oda dizisinin sesini duyar...  ...       kultur \n",
              "46       Saat beşte aklımdan çıkmayan am sorri ha      ...       kultur \n",
              "47                      bugün trendyolda işe girmedim  ...      ekonomi \n",
              "48                           Adamın sesi gelmiyor amk  ...    teknoloji \n",
              "49                                      Im not normal  ...      siyaset \n",
              "\n",
              "[50 rows x 3 columns]"
            ]
          },
          "metadata": {
            "tags": []
          },
          "execution_count": 63
        }
      ]
    },
    {
      "cell_type": "code",
      "metadata": {
        "colab": {
          "base_uri": "https://localhost:8080/"
        },
        "id": "p-DK6Rmho8uY",
        "outputId": "f4d40395-6cbb-439e-faf8-29fe1f55a594"
      },
      "source": [
        "from google.colab import drive\n",
        "drive.mount('drive')"
      ],
      "execution_count": 64,
      "outputs": [
        {
          "output_type": "stream",
          "text": [
            "Mounted at drive\n"
          ],
          "name": "stdout"
        }
      ]
    },
    {
      "cell_type": "code",
      "metadata": {
        "id": "bxyt0R-Wsn5f"
      },
      "source": [
        "df_Tweetler.to_csv('data.csv')\n",
        "!cp data.csv \"drive/My Drive/\""
      ],
      "execution_count": 65,
      "outputs": []
    },
    {
      "cell_type": "markdown",
      "metadata": {
        "id": "s4wDGCvD02Vs"
      },
      "source": [
        "[***Evet arkdaşlar sona geldiniz bi starınız alırım... :) İşinize yaradıysa ne mutlu bana..kolay gelsin***](https://github.com/alperbayram/Turkish-NLP-examples)"
      ]
    }
  ]
}